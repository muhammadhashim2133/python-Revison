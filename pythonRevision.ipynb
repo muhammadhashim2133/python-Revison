{
 "cells": [
  {
   "cell_type": "markdown",
   "metadata": {
    "id": "hycHJ0hRgOmF"
   },
   "source": [
    "# **Function**"
   ]
  },
  {
   "cell_type": "code",
   "execution_count": 1,
   "metadata": {
    "colab": {
     "base_uri": "https://localhost:8080/"
    },
    "id": "MWCblAXByqKi",
    "outputId": "01db6295-5c9f-4b10-93c3-72bbaaed072c"
   },
   "outputs": [
    {
     "name": "stdout",
     "output_type": "stream",
     "text": [
      "pakistan\n",
      "zindabad\n"
     ]
    }
   ],
   "source": [
    "print(\"pakistan\")\n",
    "print(\"zindabad\")   #ctr+shift+spaceBar to check funtion sigsnature  #print(value, ..., sep=' ', end='\\n', file=sys.stdout, flush=False)"
   ]
  },
  {
   "cell_type": "code",
   "execution_count": 2,
   "metadata": {
    "colab": {
     "base_uri": "https://localhost:8080/"
    },
    "id": "ifXTHtC0fmB8",
    "outputId": "285576d6-bc48-4465-fe34-a63e4e53d6fb"
   },
   "outputs": [
    {
     "name": "stdout",
     "output_type": "stream",
     "text": [
      "pakistan zindabad\n",
      "pakistan#zindabadpakistan zindabad\n"
     ]
    }
   ],
   "source": [
    "print(\"pakistan\",\"zindabad\")\n",
    "print(\"pakistan\",\"zindabad\", sep=\"#\",end=\"\")\n",
    "print(\"pakistan\",\"zindabad\")"
   ]
  },
  {
   "cell_type": "markdown",
   "metadata": {
    "id": "YL2uyJL_itW3"
   },
   "source": [
    "# **Veriable**"
   ]
  },
  {
   "cell_type": "code",
   "execution_count": 3,
   "metadata": {
    "id": "uwMjByMlg29U"
   },
   "outputs": [],
   "source": [
    "a=10 # a is identifier  = is assignment and 10 is data"
   ]
  },
  {
   "cell_type": "markdown",
   "metadata": {
    "id": "NPdKjomGjS6U"
   },
   "source": [
    "# **Operators**"
   ]
  },
  {
   "cell_type": "code",
   "execution_count": 4,
   "metadata": {
    "id": "JJwrkMwyjSpT"
   },
   "outputs": [],
   "source": [
    " # +,-,*,/"
   ]
  },
  {
   "cell_type": "code",
   "execution_count": 5,
   "metadata": {
    "colab": {
     "base_uri": "https://localhost:8080/"
    },
    "id": "vzP5sm88jQ68",
    "outputId": "5374e55e-ad02-426d-e872-7067a2143a37"
   },
   "outputs": [
    {
     "name": "stdout",
     "output_type": "stream",
     "text": [
      "12.5\n",
      "12\n",
      "5.0\n",
      "5\n"
     ]
    }
   ],
   "source": [
    "a=10\n",
    "d=2\n",
    "b=2.5\n",
    "c=a+b\n",
    "e=a+d\n",
    "print(c)   # if one value is floating point anss will be floating\n",
    "print(e)\n",
    "print(a/d) # it always give floating point division by default\n",
    "print(a//d) # // give integer division"
   ]
  },
  {
   "cell_type": "markdown",
   "metadata": {
    "id": "PYfxTfIdmvjJ"
   },
   "source": [
    "# **if elif else**"
   ]
  },
  {
   "cell_type": "code",
   "execution_count": 6,
   "metadata": {
    "colab": {
     "base_uri": "https://localhost:8080/"
    },
    "id": "zk-rIgJ9m2Pp",
    "outputId": "c9d8f2df-0063-4f76-e037-7b0464e60a68"
   },
   "outputs": [
    {
     "name": "stdout",
     "output_type": "stream",
     "text": [
      "its correct\n",
      "hello\n"
     ]
    }
   ],
   "source": [
    "a=10\n",
    "b=20\n",
    "\n",
    "if a<b:\n",
    "  print(\"its correct\")  #if condition is true this block will execute\n",
    "print(\"hello\")          #if the block is not indent it always execute either condition is true or false"
   ]
  },
  {
   "cell_type": "markdown",
   "metadata": {
    "id": "tUTjmY-ypYnt"
   },
   "source": [
    "**bold text**# **Input**"
   ]
  },
  {
   "cell_type": "code",
   "execution_count": 7,
   "metadata": {
    "colab": {
     "base_uri": "https://localhost:8080/"
    },
    "id": "_G1FjFEepTRU",
    "outputId": "374af6c3-34f6-41a1-dbad-c3aeaf516552"
   },
   "outputs": [
    {
     "name": "stdout",
     "output_type": "stream",
     "text": [
      "write any number: 4\n",
      "4\n"
     ]
    },
    {
     "data": {
      "text/plain": [
       "str"
      ]
     },
     "execution_count": 7,
     "metadata": {},
     "output_type": "execute_result"
    }
   ],
   "source": [
    "a=input(\"write any number: \")\n",
    "print(a)\n",
    "type(a)    # give string output"
   ]
  },
  {
   "cell_type": "markdown",
   "metadata": {
    "id": "CgQVmflKqmTm"
   },
   "source": [
    "# **List**"
   ]
  },
  {
   "cell_type": "code",
   "execution_count": 8,
   "metadata": {
    "colab": {
     "base_uri": "https://localhost:8080/"
    },
    "id": "J8c1StjjplyE",
    "outputId": "3730e21e-7868-488a-9898-b8374d8eaf12"
   },
   "outputs": [
    {
     "name": "stdout",
     "output_type": "stream",
     "text": [
      "[12, 32, 'book']\n"
     ]
    }
   ],
   "source": [
    "a=[12,32,\"book\"] # bunch of values in a single variable, it is mutable and changeable\n",
    "print(a)"
   ]
  },
  {
   "cell_type": "code",
   "execution_count": 9,
   "metadata": {
    "colab": {
     "base_uri": "https://localhost:8080/"
    },
    "id": "QUciU2xNtrbh",
    "outputId": "9766038c-9d37-4feb-baf4-3f3c558b652b"
   },
   "outputs": [
    {
     "data": {
      "text/plain": [
       "32"
      ]
     },
     "execution_count": 9,
     "metadata": {},
     "output_type": "execute_result"
    }
   ],
   "source": [
    "a[1] # access value from the list"
   ]
  },
  {
   "cell_type": "code",
   "execution_count": 10,
   "metadata": {
    "colab": {
     "base_uri": "https://localhost:8080/"
    },
    "id": "3trRdob6uHu6",
    "outputId": "b1ceaff4-9f62-47f8-89ce-d3a86387d3f3"
   },
   "outputs": [
    {
     "data": {
      "text/plain": [
       "3"
      ]
     },
     "execution_count": 10,
     "metadata": {},
     "output_type": "execute_result"
    }
   ],
   "source": [
    "len(a) # to check the memberse or values"
   ]
  },
  {
   "cell_type": "markdown",
   "metadata": {
    "id": "Qg2FCnqNu-GQ"
   },
   "source": [
    "### Adding a member to list"
   ]
  },
  {
   "cell_type": "code",
   "execution_count": 11,
   "metadata": {
    "colab": {
     "base_uri": "https://localhost:8080/"
    },
    "id": "BI8RFIYHuQcg",
    "outputId": "d9b20e45-ad5e-40a0-950b-f5ac1e2e260e"
   },
   "outputs": [
    {
     "data": {
      "text/plain": [
       "['apple']"
      ]
     },
     "execution_count": 11,
     "metadata": {},
     "output_type": "execute_result"
    }
   ],
   "source": [
    "listOfFruits=[]\n",
    "listOfFruits.append(\"apple\")# append add members in the end\n",
    "listOfFruits"
   ]
  },
  {
   "cell_type": "code",
   "execution_count": 12,
   "metadata": {
    "colab": {
     "base_uri": "https://localhost:8080/"
    },
    "id": "vmMDhLcGucIp",
    "outputId": "d14c6a4b-d214-4022-a909-ae9bd76a1099"
   },
   "outputs": [
    {
     "data": {
      "text/plain": [
       "['mango', 'apple']"
      ]
     },
     "execution_count": 12,
     "metadata": {},
     "output_type": "execute_result"
    }
   ],
   "source": [
    "listOfFruits.insert(0,\"mango\") #add member in the list, also need index value (where to insert the member in the list)\n",
    "listOfFruits"
   ]
  },
  {
   "cell_type": "code",
   "execution_count": 13,
   "metadata": {
    "colab": {
     "base_uri": "https://localhost:8080/"
    },
    "id": "xh_zDs67vT3Y",
    "outputId": "bed5a544-c127-4e25-cccc-b74dd10d924f"
   },
   "outputs": [
    {
     "data": {
      "text/plain": [
       "['mango', 'apple', 'banana', 'cherry', 'banana']"
      ]
     },
     "execution_count": 13,
     "metadata": {},
     "output_type": "execute_result"
    }
   ],
   "source": [
    "listOfFruits.extend([\"banana\",\"cherry\",\"banana\"]) # work same like append but it add more then one value. append can add only one value\n",
    "listOfFruits\n"
   ]
  },
  {
   "cell_type": "code",
   "execution_count": 14,
   "metadata": {
    "colab": {
     "base_uri": "https://localhost:8080/"
    },
    "id": "fREscotPxheQ",
    "outputId": "91413cc2-a5e5-4ba3-cabd-c4a7c644d598"
   },
   "outputs": [
    {
     "data": {
      "text/plain": [
       "2"
      ]
     },
     "execution_count": 14,
     "metadata": {},
     "output_type": "execute_result"
    }
   ],
   "source": [
    "listOfFruits.count(\"banana\") #count he accurance of the value"
   ]
  },
  {
   "cell_type": "markdown",
   "metadata": {
    "id": "sbxHSqDBPcOK"
   },
   "source": [
    "### searching/finding value from list"
   ]
  },
  {
   "cell_type": "code",
   "execution_count": 15,
   "metadata": {
    "colab": {
     "base_uri": "https://localhost:8080/"
    },
    "id": "e-7dXiC4yMTz",
    "outputId": "617b290d-119b-4a39-89e1-67be3b2a62b0"
   },
   "outputs": [
    {
     "name": "stdout",
     "output_type": "stream",
     "text": [
      "3\n",
      "True\n"
     ]
    }
   ],
   "source": [
    "print(listOfFruits.index(\"cherry\")) #return the index of value\n",
    "\n",
    "print(\"cherry\" in listOfFruits) #it return boolean value"
   ]
  },
  {
   "cell_type": "code",
   "execution_count": 16,
   "metadata": {
    "colab": {
     "base_uri": "https://localhost:8080/"
    },
    "id": "uHrLN3zIzBCY",
    "outputId": "cced534c-47f2-4aa2-e6d0-1e7e21c08996"
   },
   "outputs": [
    {
     "data": {
      "text/plain": [
       "[]"
      ]
     },
     "execution_count": 16,
     "metadata": {},
     "output_type": "execute_result"
    }
   ],
   "source": [
    "listOfFruits.clear() #Remove all items from list\n",
    "listOfFruits"
   ]
  },
  {
   "cell_type": "code",
   "execution_count": 17,
   "metadata": {
    "colab": {
     "base_uri": "https://localhost:8080/"
    },
    "id": "19TY_Bss0qRZ",
    "outputId": "b82548a4-5c2a-4925-b1ad-eb9fce582d8f"
   },
   "outputs": [
    {
     "data": {
      "text/plain": [
       "['banana', 'cherry', 'banana']"
      ]
     },
     "execution_count": 17,
     "metadata": {},
     "output_type": "execute_result"
    }
   ],
   "source": [
    "fruitsA=[\"banana\",\"cherry\",\"banana\"]\n",
    "fruitsA"
   ]
  },
  {
   "cell_type": "code",
   "execution_count": 18,
   "metadata": {
    "colab": {
     "base_uri": "https://localhost:8080/"
    },
    "id": "fad0o44h03Xk",
    "outputId": "839c4ab3-52d0-4097-86db-e3573aaa319e"
   },
   "outputs": [
    {
     "data": {
      "text/plain": [
       "['banana', 'cherry', 'banana']"
      ]
     },
     "execution_count": 18,
     "metadata": {},
     "output_type": "execute_result"
    }
   ],
   "source": [
    "fruitsB=fruitsA.copy()    #copy by value (changing in a new list will not affect on origional list)\n",
    "fruitsB"
   ]
  },
  {
   "cell_type": "code",
   "execution_count": 19,
   "metadata": {
    "colab": {
     "base_uri": "https://localhost:8080/"
    },
    "id": "2pIX29f6291w",
    "outputId": "761fd9a3-adcf-4488-a3e9-8ac4c26d60bc"
   },
   "outputs": [
    {
     "name": "stdout",
     "output_type": "stream",
     "text": [
      "['banana', 'cherry', 'banana', 'newfruit']\n",
      "['banana', 'cherry', 'banana']\n"
     ]
    }
   ],
   "source": [
    "fruitsB.append(\"newfruit\")\n",
    "print(fruitsB)\n",
    "print(fruitsA)"
   ]
  },
  {
   "cell_type": "code",
   "execution_count": 20,
   "metadata": {
    "colab": {
     "base_uri": "https://localhost:8080/"
    },
    "id": "HrCbtoGh3Mc0",
    "outputId": "09bac39f-d4e9-49dd-d045-f87adc7180dc"
   },
   "outputs": [
    {
     "data": {
      "text/plain": [
       "['banana', 'cherry', 'banana', 'newXfruit']"
      ]
     },
     "execution_count": 20,
     "metadata": {},
     "output_type": "execute_result"
    }
   ],
   "source": [
    "fruitsC=fruitsA\n",
    "fruitsC.append(\"newXfruit\")  #copy by reference(changing in a new list will  affect on origional list)\n",
    "fruitsA"
   ]
  },
  {
   "cell_type": "markdown",
   "metadata": {
    "id": "CsseDygtFPuP"
   },
   "source": [
    "### remove value from list {del, remove}"
   ]
  },
  {
   "cell_type": "code",
   "execution_count": 21,
   "metadata": {
    "colab": {
     "base_uri": "https://localhost:8080/"
    },
    "id": "yAHIyUtrEyLy",
    "outputId": "b8707e31-ee70-4acd-a171-83729da4cc5b"
   },
   "outputs": [
    {
     "data": {
      "text/plain": [
       "['cherry', 'banana', 'newXfruit']"
      ]
     },
     "execution_count": 21,
     "metadata": {},
     "output_type": "execute_result"
    }
   ],
   "source": [
    "del fruitsA[0] # remove by index\n",
    "fruitsA"
   ]
  },
  {
   "cell_type": "code",
   "execution_count": 22,
   "metadata": {
    "colab": {
     "base_uri": "https://localhost:8080/"
    },
    "id": "1GU7er5vFp58",
    "outputId": "240d7e54-f62d-4c6e-e0a3-2b5bb0e1eea7"
   },
   "outputs": [
    {
     "data": {
      "text/plain": [
       "['cherry', 'banana']"
      ]
     },
     "execution_count": 22,
     "metadata": {},
     "output_type": "execute_result"
    }
   ],
   "source": [
    "fruitsA.remove(\"newXfruit\")\n",
    "fruitsA  # remove by value name"
   ]
  },
  {
   "cell_type": "code",
   "execution_count": 23,
   "metadata": {
    "id": "xTRjmrx5F_D5"
   },
   "outputs": [],
   "source": [
    "cities=[\"khi\",\"lahor\",\"multan\",\"quetta\"]"
   ]
  },
  {
   "cell_type": "markdown",
   "metadata": {
    "id": "ivoxDeMjHD0A"
   },
   "source": [
    "###pop\n"
   ]
  },
  {
   "cell_type": "code",
   "execution_count": 24,
   "metadata": {
    "colab": {
     "base_uri": "https://localhost:8080/"
    },
    "id": "lxEWvk5dG_F1",
    "outputId": "159c118e-f9e0-453c-ceb6-41bb16bb17ba"
   },
   "outputs": [
    {
     "name": "stdout",
     "output_type": "stream",
     "text": [
      "this city is pop from list: quetta\n",
      "this cities are remaining in the list: ['khi', 'lahor', 'multan']\n"
     ]
    }
   ],
   "source": [
    "popcities=cities.pop()\n",
    "print(f\"this city is pop from list: {popcities}\")  # bydefault pop remove value from the end of list\n",
    "print(f\"this cities are remaining in the list: {cities}\")\n"
   ]
  },
  {
   "cell_type": "code",
   "execution_count": 25,
   "metadata": {
    "colab": {
     "base_uri": "https://localhost:8080/"
    },
    "id": "9ZsVobjeHpbr",
    "outputId": "ed3cd4f1-26ae-436e-b6d2-06a0b2ec6c20"
   },
   "outputs": [
    {
     "name": "stdout",
     "output_type": "stream",
     "text": [
      "this city is pop from list: khi\n",
      "this cities are remaining in the list: ['lahor', 'multan']\n"
     ]
    }
   ],
   "source": [
    "popbyindex=cities.pop(0)\n",
    "print(f\"this city is pop from list: {popbyindex}\")  # we can pop value using index also and return it\n",
    "print(f\"this cities are remaining in the list: {cities}\")"
   ]
  },
  {
   "cell_type": "code",
   "execution_count": 26,
   "metadata": {
    "colab": {
     "base_uri": "https://localhost:8080/"
    },
    "id": "Dcr-78NnIDbE",
    "outputId": "05521f47-1d26-4a7c-deb3-5e34a0c190a7"
   },
   "outputs": [
    {
     "data": {
      "text/plain": [
       "['lahor', 'multan']"
      ]
     },
     "execution_count": 26,
     "metadata": {},
     "output_type": "execute_result"
    }
   ],
   "source": [
    "cities.sort() #sort in assending order\n",
    "cities"
   ]
  },
  {
   "cell_type": "code",
   "execution_count": 27,
   "metadata": {
    "colab": {
     "base_uri": "https://localhost:8080/"
    },
    "id": "Q0Ev-jSNI1rI",
    "outputId": "f8cf7c9e-329a-4eb7-8963-e9dab93ce079"
   },
   "outputs": [
    {
     "data": {
      "text/plain": [
       "['multan', 'lahor']"
      ]
     },
     "execution_count": 27,
     "metadata": {},
     "output_type": "execute_result"
    }
   ],
   "source": [
    "cities.sort(reverse=True)\n",
    "cities"
   ]
  },
  {
   "cell_type": "code",
   "execution_count": 28,
   "metadata": {
    "colab": {
     "base_uri": "https://localhost:8080/"
    },
    "id": "LvF9alGmJDNJ",
    "outputId": "c2356d80-5a9f-4edb-bb27-4d99b032061d"
   },
   "outputs": [
    {
     "data": {
      "text/plain": [
       "['lahor', 'multan']"
      ]
     },
     "execution_count": 28,
     "metadata": {},
     "output_type": "execute_result"
    }
   ],
   "source": [
    "cities.reverse() #just reverse the value from the list\n",
    "cities"
   ]
  },
  {
   "cell_type": "markdown",
   "metadata": {
    "id": "KGjvcpLDPuj5"
   },
   "source": [
    "# slicing"
   ]
  },
  {
   "cell_type": "code",
   "execution_count": 29,
   "metadata": {
    "id": "d_UJMqebJeRi"
   },
   "outputs": [],
   "source": [
    "students=[\"name1\",\"name2\",\"name3\",\"name4\"]"
   ]
  },
  {
   "cell_type": "code",
   "execution_count": 30,
   "metadata": {
    "colab": {
     "base_uri": "https://localhost:8080/"
    },
    "id": "3-qxAy4mQSGw",
    "outputId": "532196f1-f6aa-4767-fc75-dd2616e06409"
   },
   "outputs": [
    {
     "data": {
      "text/plain": [
       "['name2', 'name3']"
      ]
     },
     "execution_count": 30,
     "metadata": {},
     "output_type": "execute_result"
    }
   ],
   "source": [
    "students[1:3] #here 1 is inclusive and 3 is exclusive"
   ]
  },
  {
   "cell_type": "code",
   "execution_count": 31,
   "metadata": {
    "colab": {
     "base_uri": "https://localhost:8080/",
     "height": 36
    },
    "id": "0YGcMONkQYiG",
    "outputId": "c8d485fb-35be-458a-840d-a95198300df1"
   },
   "outputs": [
    {
     "data": {
      "text/plain": [
       "'name3'"
      ]
     },
     "execution_count": 31,
     "metadata": {},
     "output_type": "execute_result"
    }
   ],
   "source": [
    "students[-2] #is called negative indexing"
   ]
  },
  {
   "cell_type": "code",
   "execution_count": 32,
   "metadata": {
    "colab": {
     "base_uri": "https://localhost:8080/"
    },
    "id": "B9C5brPHRDc1",
    "outputId": "cd48ac85-cd84-436a-ada8-eec96ec8f0c0"
   },
   "outputs": [
    {
     "data": {
      "text/plain": [
       "['name1', 'name2', 'name3']"
      ]
     },
     "execution_count": 32,
     "metadata": {},
     "output_type": "execute_result"
    }
   ],
   "source": [
    "students[-4:-1]"
   ]
  },
  {
   "cell_type": "code",
   "execution_count": 33,
   "metadata": {
    "colab": {
     "base_uri": "https://localhost:8080/"
    },
    "id": "D1zIm9ugR8JO",
    "outputId": "60da8ae1-83bd-429e-d7f9-05f7269f8907"
   },
   "outputs": [
    {
     "data": {
      "text/plain": [
       "['name1', 'name2', 'name3', 'name4']"
      ]
     },
     "execution_count": 33,
     "metadata": {},
     "output_type": "execute_result"
    }
   ],
   "source": [
    "students[:]"
   ]
  },
  {
   "cell_type": "code",
   "execution_count": 34,
   "metadata": {
    "colab": {
     "base_uri": "https://localhost:8080/"
    },
    "id": "Nnsja0b-ST0y",
    "outputId": "8b0fe6de-cd90-41cb-ad9b-3bd753c63332"
   },
   "outputs": [
    {
     "data": {
      "text/plain": [
       "['name2', 'name3', 'name4']"
      ]
     },
     "execution_count": 34,
     "metadata": {},
     "output_type": "execute_result"
    }
   ],
   "source": [
    "students[1:]"
   ]
  },
  {
   "cell_type": "code",
   "execution_count": 35,
   "metadata": {
    "colab": {
     "base_uri": "https://localhost:8080/"
    },
    "id": "gmlkcWAHSWuO",
    "outputId": "040a0a7f-3e18-425b-b719-6b45b61f8203"
   },
   "outputs": [
    {
     "data": {
      "text/plain": [
       "['name1', 'name2', 'name3']"
      ]
     },
     "execution_count": 35,
     "metadata": {},
     "output_type": "execute_result"
    }
   ],
   "source": [
    "students[:-1]"
   ]
  },
  {
   "cell_type": "code",
   "execution_count": 36,
   "metadata": {
    "colab": {
     "base_uri": "https://localhost:8080/"
    },
    "id": "QfoOlaN7SiSB",
    "outputId": "e5937cdb-8bf5-4bfd-ac5c-348b9b0b7b41"
   },
   "outputs": [
    {
     "data": {
      "text/plain": [
       "[]"
      ]
     },
     "execution_count": 36,
     "metadata": {},
     "output_type": "execute_result"
    }
   ],
   "source": [
    "students[2:-3]  #it give empty list bcause it always run left to right"
   ]
  },
  {
   "cell_type": "code",
   "execution_count": 37,
   "metadata": {
    "id": "L6JZ9oG3S5B8"
   },
   "outputs": [],
   "source": [
    "numbers=[1,2,3,4,5,6,7,8,9,10,11,12]"
   ]
  },
  {
   "cell_type": "code",
   "execution_count": 38,
   "metadata": {
    "colab": {
     "base_uri": "https://localhost:8080/"
    },
    "id": "jr8569-jTior",
    "outputId": "b8591237-2a12-46e0-fa8f-1c4ef7d672e9"
   },
   "outputs": [
    {
     "data": {
      "text/plain": [
       "[1, 3, 5, 7, 9, 11]"
      ]
     },
     "execution_count": 38,
     "metadata": {},
     "output_type": "execute_result"
    }
   ],
   "source": [
    "numbers[0:12:2] #here 2 is step"
   ]
  },
  {
   "cell_type": "markdown",
   "metadata": {
    "id": "oPGc8qJ-UWDk"
   },
   "source": [
    "# **Touple**"
   ]
  },
  {
   "cell_type": "markdown",
   "metadata": {
    "id": "jBWalJEEUqHj"
   },
   "source": [
    "###Touple are just like list but only difference is touples are immutable. you can not add, delete or change the elements after creation of touple instance. we can just use it"
   ]
  },
  {
   "cell_type": "code",
   "execution_count": 39,
   "metadata": {
    "id": "E4h37PzxTvB7"
   },
   "outputs": [],
   "source": [
    "Atuple=(\"hashim\",100,\"raza\")"
   ]
  },
  {
   "cell_type": "code",
   "execution_count": 40,
   "metadata": {
    "colab": {
     "base_uri": "https://localhost:8080/"
    },
    "id": "TYYXOOILVkOC",
    "outputId": "649ad292-01d5-42e8-94ed-77058cb27686"
   },
   "outputs": [
    {
     "data": {
      "text/plain": [
       "100"
      ]
     },
     "execution_count": 40,
     "metadata": {},
     "output_type": "execute_result"
    }
   ],
   "source": [
    "Atuple[1]\n",
    "# del Atuple[2] it will not delete the value of tuple"
   ]
  },
  {
   "cell_type": "code",
   "execution_count": 41,
   "metadata": {
    "colab": {
     "base_uri": "https://localhost:8080/"
    },
    "id": "HDwXEgyFWHAV",
    "outputId": "e2f618ac-11bb-4029-fe98-7a2864587496"
   },
   "outputs": [
    {
     "data": {
      "text/plain": [
       "2"
      ]
     },
     "execution_count": 41,
     "metadata": {},
     "output_type": "execute_result"
    }
   ],
   "source": [
    "Atuple.index(\"raza\")"
   ]
  },
  {
   "cell_type": "code",
   "execution_count": 42,
   "metadata": {
    "colab": {
     "base_uri": "https://localhost:8080/"
    },
    "id": "dSIS_D4JWfGF",
    "outputId": "9472a0e5-609a-4953-a98b-9372496e2823"
   },
   "outputs": [
    {
     "data": {
      "text/plain": [
       "1"
      ]
     },
     "execution_count": 42,
     "metadata": {},
     "output_type": "execute_result"
    }
   ],
   "source": [
    "Atuple.count(\"hashim\")"
   ]
  },
  {
   "cell_type": "code",
   "execution_count": 43,
   "metadata": {
    "colab": {
     "base_uri": "https://localhost:8080/"
    },
    "id": "Ro6icPbNWsZK",
    "outputId": "564049cc-3360-46df-b6c2-f5b2c3a959cd"
   },
   "outputs": [
    {
     "data": {
      "text/plain": [
       "3"
      ]
     },
     "execution_count": 43,
     "metadata": {},
     "output_type": "execute_result"
    }
   ],
   "source": [
    "len(Atuple)"
   ]
  },
  {
   "cell_type": "code",
   "execution_count": 44,
   "metadata": {
    "id": "eH0kgXXUXAki"
   },
   "outputs": [],
   "source": [
    "a=12,32,\"ali\" # we can also make tuple like this"
   ]
  },
  {
   "cell_type": "code",
   "execution_count": 45,
   "metadata": {
    "colab": {
     "base_uri": "https://localhost:8080/"
    },
    "id": "EH_usDl3XXR7",
    "outputId": "ab7a3fcc-7be5-4af3-efd0-87e129c0a65f"
   },
   "outputs": [
    {
     "data": {
      "text/plain": [
       "(12, 32, 'ali')"
      ]
     },
     "execution_count": 45,
     "metadata": {},
     "output_type": "execute_result"
    }
   ],
   "source": [
    "a"
   ]
  },
  {
   "cell_type": "markdown",
   "metadata": {
    "id": "PVataJAbp-7K"
   },
   "source": [
    "# **For loops**"
   ]
  },
  {
   "cell_type": "markdown",
   "metadata": {
    "id": "PC7AOfkeqWyq"
   },
   "source": [
    "### There are two loops in python for loops and while loops\n",
    "\n",
    "\n",
    "*   use for repeted task\n",
    "\n",
    "\n"
   ]
  },
  {
   "cell_type": "code",
   "execution_count": 46,
   "metadata": {
    "colab": {
     "base_uri": "https://localhost:8080/"
    },
    "id": "dHHyAb3FqVNN",
    "outputId": "24725b3f-def7-4abe-f650-24be0065eeea"
   },
   "outputs": [
    {
     "name": "stdout",
     "output_type": "stream",
     "text": [
      "0 pak\n",
      "1 pak\n",
      "2 pak\n",
      "3 pak\n",
      "4 pak\n"
     ]
    }
   ],
   "source": [
    "for a in range(5):\n",
    "  print(a, \"pak\")"
   ]
  },
  {
   "cell_type": "code",
   "execution_count": 47,
   "metadata": {
    "colab": {
     "base_uri": "https://localhost:8080/"
    },
    "id": "lYSDsWz8rFVh",
    "outputId": "22ceffc9-b016-467c-a215-3a1a951b8275"
   },
   "outputs": [
    {
     "name": "stdout",
     "output_type": "stream",
     "text": [
      "2\n",
      "3\n",
      "4\n",
      "5\n",
      "6\n",
      "7\n",
      "8\n",
      "9\n"
     ]
    }
   ],
   "source": [
    "for a in range(2,10):\n",
    "  print(a)"
   ]
  },
  {
   "cell_type": "code",
   "execution_count": 48,
   "metadata": {
    "colab": {
     "base_uri": "https://localhost:8080/"
    },
    "id": "PCSJoiQuru0l",
    "outputId": "f573f12a-0457-4a50-ab79-f567a208c374"
   },
   "outputs": [
    {
     "name": "stdout",
     "output_type": "stream",
     "text": [
      "2\n",
      "4\n",
      "6\n",
      "8\n"
     ]
    }
   ],
   "source": [
    "for a in range(2,10,2):\n",
    "  print(a)"
   ]
  },
  {
   "cell_type": "code",
   "execution_count": 49,
   "metadata": {
    "colab": {
     "base_uri": "https://localhost:8080/"
    },
    "id": "E9413sBurzFs",
    "outputId": "1be75481-c796-4d1b-88a3-c3fa9bcbb95e"
   },
   "outputs": [
    {
     "name": "stdout",
     "output_type": "stream",
     "text": [
      "10\n",
      "8\n",
      "6\n",
      "4\n",
      "2\n"
     ]
    }
   ],
   "source": [
    "for a in range(10,0,-2):\n",
    "  print(a)"
   ]
  },
  {
   "cell_type": "code",
   "execution_count": 50,
   "metadata": {
    "colab": {
     "base_uri": "https://localhost:8080/"
    },
    "id": "12QzHY2dr3qn",
    "outputId": "c5d24eef-8d86-4b7f-f3a8-8b3997f5cb10"
   },
   "outputs": [
    {
     "name": "stdout",
     "output_type": "stream",
     "text": [
      "khi\n",
      "lahor\n",
      "multan\n",
      "quetta\n"
     ]
    }
   ],
   "source": [
    "cities=[\"khi\",\"lahor\",\"multan\",\"quetta\"]\n",
    "for city in cities:\n",
    "  print(city)"
   ]
  },
  {
   "cell_type": "code",
   "execution_count": 51,
   "metadata": {
    "colab": {
     "base_uri": "https://localhost:8080/"
    },
    "id": "KEYyLvd0sSby",
    "outputId": "b46ca4ce-a999-4ec7-a32c-6241d4ea7ea4"
   },
   "outputs": [
    {
     "name": "stdout",
     "output_type": "stream",
     "text": [
      "12\n",
      "32\n",
      "43\n",
      "54\n",
      "64\n",
      "5\n",
      "apple\n"
     ]
    }
   ],
   "source": [
    "for num in [12,32,43,54,64,5,\"apple\"]:\n",
    "  print(num)"
   ]
  },
  {
   "cell_type": "code",
   "execution_count": 52,
   "metadata": {
    "colab": {
     "base_uri": "https://localhost:8080/"
    },
    "id": "Y-EHKP5bsmK3",
    "outputId": "4d87dab8-8eaa-47f9-87fe-217b66e8e0af"
   },
   "outputs": [
    {
     "name": "stdout",
     "output_type": "stream",
     "text": [
      "p\n",
      "a\n",
      "k\n",
      "i\n",
      "s\n",
      "t\n",
      "a\n",
      "n\n"
     ]
    }
   ],
   "source": [
    "name=\"pakistan\"\n",
    "for char in name:\n",
    "  print(char)\n"
   ]
  },
  {
   "cell_type": "code",
   "execution_count": 53,
   "metadata": {
    "colab": {
     "base_uri": "https://localhost:8080/"
    },
    "id": "XrUCsmLns6P-",
    "outputId": "bdf47cd9-33d4-4a39-c9e0-73383f8f1e0e"
   },
   "outputs": [
    {
     "name": "stdout",
     "output_type": "stream",
     "text": [
      "pakistan\n",
      "iran\n"
     ]
    }
   ],
   "source": [
    "name=\"pakistan\",\"iran\"\n",
    "for char in name:\n",
    "  print(char)\n"
   ]
  },
  {
   "cell_type": "markdown",
   "metadata": {
    "id": "hs-PkR5tuSZC"
   },
   "source": [
    "###**break and continue**"
   ]
  },
  {
   "cell_type": "code",
   "execution_count": 54,
   "metadata": {
    "colab": {
     "base_uri": "https://localhost:8080/"
    },
    "id": "f3JYjADFtDA_",
    "outputId": "f692896c-f28a-45ee-c856-aefe0c18d28e"
   },
   "outputs": [
    {
     "name": "stdout",
     "output_type": "stream",
     "text": [
      "0\n",
      "1\n",
      "2\n",
      "3\n",
      "4\n",
      "5\n"
     ]
    }
   ],
   "source": [
    "for a in range(0,10):\n",
    "  if a==6:          #it will break when a will be 6\n",
    "    break\n",
    "  print(a)"
   ]
  },
  {
   "cell_type": "code",
   "execution_count": 55,
   "metadata": {
    "colab": {
     "base_uri": "https://localhost:8080/"
    },
    "id": "qFKx8bH1utkt",
    "outputId": "bc77eb3e-7e3c-40b7-ea8e-efe39f4eebee"
   },
   "outputs": [
    {
     "name": "stdout",
     "output_type": "stream",
     "text": [
      "0\n",
      "1\n",
      "2\n",
      "3\n",
      "4\n",
      "6\n",
      "7\n",
      "8\n",
      "9\n"
     ]
    }
   ],
   "source": [
    "for a in range(0,10):\n",
    "  if a==5:    # here 5 will not be print\n",
    "    continue\n",
    "  print(a)"
   ]
  },
  {
   "cell_type": "markdown",
   "metadata": {
    "id": "MQH2KS_gvf52"
   },
   "source": [
    "#**Nested for loop**"
   ]
  },
  {
   "cell_type": "code",
   "execution_count": 56,
   "metadata": {
    "colab": {
     "base_uri": "https://localhost:8080/"
    },
    "id": "C_M3EAxTvDjN",
    "outputId": "e0fdc836-bd21-4e61-9ee0-244de8baee85"
   },
   "outputs": [
    {
     "name": "stdout",
     "output_type": "stream",
     "text": [
      "inner loop begins\n",
      "0 c\n",
      "0 h\n",
      "0 i\n",
      "0 n\n",
      "0 a\n",
      "inner loop begins\n",
      "1 c\n",
      "1 h\n",
      "1 i\n",
      "1 n\n",
      "1 a\n",
      "inner loop begins\n",
      "2 c\n",
      "2 h\n",
      "2 i\n",
      "2 n\n",
      "2 a\n",
      "inner loop begins\n",
      "3 c\n",
      "3 h\n",
      "3 i\n",
      "3 n\n",
      "3 a\n",
      "inner loop begins\n",
      "4 c\n",
      "4 h\n",
      "4 i\n",
      "4 n\n",
      "4 a\n"
     ]
    }
   ],
   "source": [
    "for a in range(5):\n",
    "  print(\"inner loop begins\")\n",
    "  for char in \"china\":\n",
    "    print(a,char)"
   ]
  },
  {
   "cell_type": "code",
   "execution_count": 57,
   "metadata": {
    "colab": {
     "base_uri": "https://localhost:8080/"
    },
    "id": "Y3swWvg2vcCo",
    "outputId": "dc6db6dd-1c87-40ef-c9b4-7d03462b66b1"
   },
   "outputs": [
    {
     "name": "stdout",
     "output_type": "stream",
     "text": [
      "input table number: 5\n",
      "5 * 0 = 0\n",
      "5 * 1 = 5\n",
      "5 * 2 = 10\n",
      "5 * 3 = 15\n",
      "5 * 4 = 20\n",
      "5 * 5 = 25\n",
      "5 * 6 = 30\n",
      "5 * 7 = 35\n",
      "5 * 8 = 40\n",
      "5 * 9 = 45\n",
      "5 * 10 = 50\n"
     ]
    }
   ],
   "source": [
    "table=int(input(\"input table number: \"))\n",
    "\n",
    "for a in range(11):\n",
    "  print(f\"{table} * {a} = {table*a}\")"
   ]
  },
  {
   "cell_type": "code",
   "execution_count": 58,
   "metadata": {
    "colab": {
     "base_uri": "https://localhost:8080/"
    },
    "id": "fjml7klzy3m1",
    "outputId": "69a24ed2-4c1d-40da-ea90-60ac8420c58e"
   },
   "outputs": [
    {
     "name": "stdout",
     "output_type": "stream",
     "text": [
      "input table range6\n",
      "2 * 1 =2\n",
      "2 * 2 =4\n",
      "2 * 3 =6\n",
      "2 * 4 =8\n",
      "2 * 5 =10\n",
      "2 * 6 =12\n",
      "2 * 7 =14\n",
      "2 * 8 =16\n",
      "2 * 9 =18\n",
      "2 * 10 =20\n",
      "3 * 1 =3\n",
      "3 * 2 =6\n",
      "3 * 3 =9\n",
      "3 * 4 =12\n",
      "3 * 5 =15\n",
      "3 * 6 =18\n",
      "3 * 7 =21\n",
      "3 * 8 =24\n",
      "3 * 9 =27\n",
      "3 * 10 =30\n",
      "4 * 1 =4\n",
      "4 * 2 =8\n",
      "4 * 3 =12\n",
      "4 * 4 =16\n",
      "4 * 5 =20\n",
      "4 * 6 =24\n",
      "4 * 7 =28\n",
      "4 * 8 =32\n",
      "4 * 9 =36\n",
      "4 * 10 =40\n",
      "5 * 1 =5\n",
      "5 * 2 =10\n",
      "5 * 3 =15\n",
      "5 * 4 =20\n",
      "5 * 5 =25\n",
      "5 * 6 =30\n",
      "5 * 7 =35\n",
      "5 * 8 =40\n",
      "5 * 9 =45\n",
      "5 * 10 =50\n",
      "6 * 1 =6\n",
      "6 * 2 =12\n",
      "6 * 3 =18\n",
      "6 * 4 =24\n",
      "6 * 5 =30\n",
      "6 * 6 =36\n",
      "6 * 7 =42\n",
      "6 * 8 =48\n",
      "6 * 9 =54\n",
      "6 * 10 =60\n"
     ]
    }
   ],
   "source": [
    "tableRange=int(input(\"input table range\"))\n",
    "\n",
    "for a in range(2,tableRange+1):\n",
    "  for b in range(1,11):\n",
    "    print(f\"{a} * {b} ={a*b}\")\n"
   ]
  },
  {
   "cell_type": "markdown",
   "metadata": {
    "id": "C7XcEa700XhA"
   },
   "source": [
    "#**Type casting**"
   ]
  },
  {
   "cell_type": "code",
   "execution_count": 59,
   "metadata": {
    "colab": {
     "base_uri": "https://localhost:8080/"
    },
    "id": "8cDeThATzvWt",
    "outputId": "bfc88bf9-3f03-4866-fe7e-d1b673a9f131"
   },
   "outputs": [
    {
     "name": "stdout",
     "output_type": "stream",
     "text": [
      "enter number7\n"
     ]
    },
    {
     "data": {
      "text/plain": [
       "float"
      ]
     },
     "execution_count": 59,
     "metadata": {},
     "output_type": "execute_result"
    }
   ],
   "source": [
    "number=float(input(\"enter number\"))\n",
    "type(number)"
   ]
  },
  {
   "cell_type": "markdown",
   "metadata": {
    "id": "1o6BJ6-G1ai3"
   },
   "source": [
    "#### **Changing case of string**"
   ]
  },
  {
   "cell_type": "code",
   "execution_count": 60,
   "metadata": {
    "colab": {
     "base_uri": "https://localhost:8080/"
    },
    "id": "L3mhUzts1JJk",
    "outputId": "5dc55034-3f02-4d33-9767-acb9e7beea61"
   },
   "outputs": [
    {
     "name": "stdout",
     "output_type": "stream",
     "text": [
      "PAKISTAN\n",
      "pakistan\n"
     ]
    }
   ],
   "source": [
    "name=\"pakistan\"\n",
    "print(name.upper())\n",
    "print(name.lower())"
   ]
  },
  {
   "cell_type": "markdown",
   "metadata": {
    "id": "RDRmJIr22OrC"
   },
   "source": [
    "#**Dictionaries**\n",
    "\n",
    "\n",
    "*   key value pair\n",
    "*   data types of key can be string, int, float and data type of value can be string, int, float, list, dictionary\n",
    "\n",
    "\n",
    "*   dictName={key:value,key:value}\n",
    "\n",
    "\n",
    "\n"
   ]
  },
  {
   "cell_type": "code",
   "execution_count": 61,
   "metadata": {
    "id": "TOeuENnW1tNV"
   },
   "outputs": [],
   "source": [
    "myDict={\"name\":\"hashim\",\"age\":23,\"gender\":\"male\"}"
   ]
  },
  {
   "cell_type": "code",
   "execution_count": 62,
   "metadata": {
    "colab": {
     "base_uri": "https://localhost:8080/"
    },
    "id": "FV-7_iSs4353",
    "outputId": "19027ac2-b256-4692-96aa-8def7b1d1049"
   },
   "outputs": [
    {
     "data": {
      "text/plain": [
       "3"
      ]
     },
     "execution_count": 62,
     "metadata": {},
     "output_type": "execute_result"
    }
   ],
   "source": [
    "len(myDict)"
   ]
  },
  {
   "cell_type": "markdown",
   "metadata": {
    "id": "O_HizqYN4-fM"
   },
   "source": [
    "adding a new key ro existing dictionary"
   ]
  },
  {
   "cell_type": "code",
   "execution_count": 63,
   "metadata": {
    "id": "pfkYvMrL48YY"
   },
   "outputs": [],
   "source": [
    "myDict[\"email\"]=\"hashim@gmail.com\""
   ]
  },
  {
   "cell_type": "code",
   "execution_count": 64,
   "metadata": {
    "colab": {
     "base_uri": "https://localhost:8080/"
    },
    "id": "HM6DKOZ15RuN",
    "outputId": "a98665f0-32f5-4553-922a-bd397ab71817"
   },
   "outputs": [
    {
     "data": {
      "text/plain": [
       "{'name': 'hashim', 'age': 23, 'gender': 'male', 'email': 'hashim@gmail.com'}"
      ]
     },
     "execution_count": 64,
     "metadata": {},
     "output_type": "execute_result"
    }
   ],
   "source": [
    "myDict"
   ]
  },
  {
   "cell_type": "markdown",
   "metadata": {
    "id": "4YI8mvMI50ab"
   },
   "source": [
    "accessing info from dictionary"
   ]
  },
  {
   "cell_type": "code",
   "execution_count": 65,
   "metadata": {
    "colab": {
     "base_uri": "https://localhost:8080/",
     "height": 36
    },
    "id": "nJ24kW035UF_",
    "outputId": "4e7656b8-f0c4-48f8-89a6-349d8c44855d"
   },
   "outputs": [
    {
     "data": {
      "text/plain": [
       "'hashim'"
      ]
     },
     "execution_count": 65,
     "metadata": {},
     "output_type": "execute_result"
    }
   ],
   "source": [
    "myDict[\"name\"]"
   ]
  },
  {
   "cell_type": "code",
   "execution_count": 66,
   "metadata": {
    "colab": {
     "base_uri": "https://localhost:8080/"
    },
    "id": "edQPmYuK5_sy",
    "outputId": "70a9415e-3174-436c-aace-da1f3fd7d8c2"
   },
   "outputs": [
    {
     "name": "stdout",
     "output_type": "stream",
     "text": [
      "ali\n",
      "raza\n"
     ]
    }
   ],
   "source": [
    "newDic={1:\"ali\",2:\"raza\"} #key can be string or number\n",
    "print(newDic[1])\n",
    "print(newDic[2])"
   ]
  },
  {
   "cell_type": "markdown",
   "metadata": {
    "id": "RUFEvspL7Qgx"
   },
   "source": [
    "# deleting a key"
   ]
  },
  {
   "cell_type": "code",
   "execution_count": 67,
   "metadata": {
    "colab": {
     "base_uri": "https://localhost:8080/"
    },
    "id": "ochtxGxV7Fk9",
    "outputId": "53ed8cbc-3b43-4491-8924-d840ef69faab"
   },
   "outputs": [
    {
     "data": {
      "text/plain": [
       "{2: 'raza'}"
      ]
     },
     "execution_count": 67,
     "metadata": {},
     "output_type": "execute_result"
    }
   ],
   "source": [
    "del newDic[1]\n",
    "newDic"
   ]
  },
  {
   "cell_type": "markdown",
   "metadata": {
    "id": "y4UdREQW7jOD"
   },
   "source": [
    "updating a new dictionary"
   ]
  },
  {
   "cell_type": "code",
   "execution_count": 68,
   "metadata": {
    "colab": {
     "base_uri": "https://localhost:8080/"
    },
    "id": "5Av4gsoh7eKc",
    "outputId": "358ee6b7-191b-4cf4-bbe5-50376c12efd9"
   },
   "outputs": [
    {
     "data": {
      "text/plain": [
       "{'name': 'ali', 'age': 23, 'gender': 'male', 'email': 'hashim@gmail.com'}"
      ]
     },
     "execution_count": 68,
     "metadata": {},
     "output_type": "execute_result"
    }
   ],
   "source": [
    "myDict[\"name\"]=\"ali\"\n",
    "myDict"
   ]
  },
  {
   "cell_type": "markdown",
   "metadata": {
    "id": "efOiS-IS7_SF"
   },
   "source": [
    "value of same key will be over write"
   ]
  },
  {
   "cell_type": "code",
   "execution_count": 69,
   "metadata": {
    "id": "aaTU9lIJ7xUG"
   },
   "outputs": [],
   "source": [
    "newDicA={\"name\":\"hashim\",\"name\":\"ali\",\"class\":14}"
   ]
  },
  {
   "cell_type": "code",
   "execution_count": 70,
   "metadata": {
    "colab": {
     "base_uri": "https://localhost:8080/"
    },
    "id": "EMa223Th8by8",
    "outputId": "e8005c14-91e1-4696-c53c-2e687859794d"
   },
   "outputs": [
    {
     "data": {
      "text/plain": [
       "{'name': 'ali', 'class': 14}"
      ]
     },
     "execution_count": 70,
     "metadata": {},
     "output_type": "execute_result"
    }
   ],
   "source": [
    "newDicA"
   ]
  },
  {
   "cell_type": "markdown",
   "metadata": {
    "id": "J1am9BGy8qMk"
   },
   "source": [
    "to check key"
   ]
  },
  {
   "cell_type": "code",
   "execution_count": 71,
   "metadata": {
    "colab": {
     "base_uri": "https://localhost:8080/"
    },
    "id": "B9T8n-yU8eMh",
    "outputId": "faad6b13-a088-4106-c7c8-f65cbdea18ae",
    "scrolled": true
   },
   "outputs": [
    {
     "data": {
      "text/plain": [
       "True"
      ]
     },
     "execution_count": 71,
     "metadata": {},
     "output_type": "execute_result"
    }
   ],
   "source": [
    "\"name\" in newDicA"
   ]
  },
  {
   "cell_type": "markdown",
   "metadata": {},
   "source": [
    "\n",
    "iterating over  info from dictionary\n",
    "\n",
    "\n",
    " for key in newdicA.keys():\n",
    "              #print(key)\n",
    "\n",
    "   for value in newdicA.values():\n",
    "            print(value)\n",
    "\n",
    "   for key,value in newdicA.items():\n",
    "            print(key,value) "
   ]
  },
  {
   "cell_type": "code",
   "execution_count": 72,
   "metadata": {},
   "outputs": [],
   "source": [
    "newDicx={\"name\":\"hashim\",\"fname\":\"ali\",\"class\":14}"
   ]
  },
  {
   "cell_type": "code",
   "execution_count": 73,
   "metadata": {},
   "outputs": [
    {
     "name": "stdout",
     "output_type": "stream",
     "text": [
      "name\n",
      "class\n"
     ]
    }
   ],
   "source": [
    "for key in newDicA.keys():\n",
    "    print(key)"
   ]
  },
  {
   "cell_type": "code",
   "execution_count": 74,
   "metadata": {},
   "outputs": [
    {
     "name": "stdout",
     "output_type": "stream",
     "text": [
      "ali\n",
      "14\n"
     ]
    }
   ],
   "source": [
    "for value in newDicA.values():\n",
    "    print(value)"
   ]
  },
  {
   "cell_type": "code",
   "execution_count": 75,
   "metadata": {},
   "outputs": [
    {
     "name": "stdout",
     "output_type": "stream",
     "text": [
      "name ali\n",
      "class 14\n"
     ]
    }
   ],
   "source": [
    "for key,value in newDicA.items():\n",
    "    print(key,value)"
   ]
  },
  {
   "cell_type": "code",
   "execution_count": 76,
   "metadata": {},
   "outputs": [
    {
     "data": {
      "text/plain": [
       "{'name': 'hashim', 'fname': 'ali', 'class': 14}"
      ]
     },
     "execution_count": 76,
     "metadata": {},
     "output_type": "execute_result"
    }
   ],
   "source": [
    "newDicx"
   ]
  },
  {
   "cell_type": "markdown",
   "metadata": {},
   "source": [
    "# List of dictionary"
   ]
  },
  {
   "cell_type": "code",
   "execution_count": 79,
   "metadata": {},
   "outputs": [],
   "source": [
    "listDict=[{'name': 'sajjad', 'fname': 'Ausman', 'class': \"metric\"},{'name': 'Raza', 'fname': 'Mohsin', 'class': 'inter'}]"
   ]
  },
  {
   "cell_type": "code",
   "execution_count": 80,
   "metadata": {},
   "outputs": [
    {
     "data": {
      "text/plain": [
       "[{'name': 'sajjad', 'fname': 'Ausman', 'class': 'metric'},\n",
       " {'name': 'Raza', 'fname': 'Mohsin', 'class': 'inter'}]"
      ]
     },
     "execution_count": 80,
     "metadata": {},
     "output_type": "execute_result"
    }
   ],
   "source": [
    "listDict"
   ]
  },
  {
   "cell_type": "code",
   "execution_count": 91,
   "metadata": {},
   "outputs": [
    {
     "data": {
      "text/plain": [
       "'Raza'"
      ]
     },
     "execution_count": 91,
     "metadata": {},
     "output_type": "execute_result"
    }
   ],
   "source": [
    "listDict[1][\"name\"]"
   ]
  },
  {
   "cell_type": "code",
   "execution_count": 95,
   "metadata": {},
   "outputs": [
    {
     "name": "stdout",
     "output_type": "stream",
     "text": [
      "{'name': 'sajjad', 'fname': 'Ausman', 'class': 'metric'}\n",
      "{'name': 'Raza', 'fname': 'Mohsin', 'class': 'inter'}\n"
     ]
    }
   ],
   "source": [
    "for list in listDict:\n",
    "    print(list)"
   ]
  },
  {
   "cell_type": "code",
   "execution_count": 98,
   "metadata": {},
   "outputs": [
    {
     "name": "stdout",
     "output_type": "stream",
     "text": [
      "name\n",
      "fname\n",
      "class\n"
     ]
    }
   ],
   "source": [
    "for key in listDict[0].keys():\n",
    "    print(key)"
   ]
  },
  {
   "cell_type": "markdown",
   "metadata": {},
   "source": [
    "# dictionary of lists"
   ]
  },
  {
   "cell_type": "code",
   "execution_count": 119,
   "metadata": {},
   "outputs": [],
   "source": [
    "DictList={'name': ['sajjad', 'Ausman', \"ali\", \"hamza\"],'fathername': ['Raza', 'sara', 'Mohsin', 'zainab', 'rehman']}"
   ]
  },
  {
   "cell_type": "code",
   "execution_count": 120,
   "metadata": {},
   "outputs": [
    {
     "data": {
      "text/plain": [
       "{'name': ['sajjad', 'Ausman', 'ali', 'hamza'],\n",
       " 'fathername': ['Raza', 'sara', 'Mohsin', 'zainab', 'rehman']}"
      ]
     },
     "execution_count": 120,
     "metadata": {},
     "output_type": "execute_result"
    }
   ],
   "source": [
    "DictList"
   ]
  },
  {
   "cell_type": "code",
   "execution_count": 121,
   "metadata": {},
   "outputs": [
    {
     "data": {
      "text/plain": [
       "['sajjad', 'Ausman', 'ali', 'hamza']"
      ]
     },
     "execution_count": 121,
     "metadata": {},
     "output_type": "execute_result"
    }
   ],
   "source": [
    "DictList[\"name\"]"
   ]
  },
  {
   "cell_type": "code",
   "execution_count": 124,
   "metadata": {},
   "outputs": [
    {
     "name": "stdout",
     "output_type": "stream",
     "text": [
      "name ['sajjad', 'Ausman', 'ali', 'hamza']\n",
      "fathername ['Raza', 'sara', 'Mohsin', 'zainab', 'rehman']\n"
     ]
    }
   ],
   "source": [
    "for key,value in DictList.items():\n",
    "    print(key,value)"
   ]
  },
  {
   "cell_type": "code",
   "execution_count": 125,
   "metadata": {},
   "outputs": [],
   "source": [
    "student_records = {\n",
    "    'student1': {\n",
    "        'name': 'Sajjad',\n",
    "        'age': 20,\n",
    "        'grade': 'A'\n",
    "    },\n",
    "    'student2': {\n",
    "        'name': 'Raza',\n",
    "        'age': 22,\n",
    "        'grade': 'B'\n",
    "    },\n",
    "    'student3': {\n",
    "        'name': 'Ali',\n",
    "        'age': 19,\n",
    "        'grade': 'A'\n",
    "    }\n",
    "}"
   ]
  },
  {
   "cell_type": "code",
   "execution_count": 126,
   "metadata": {},
   "outputs": [
    {
     "data": {
      "text/plain": [
       "{'student1': {'name': 'Sajjad', 'age': 20, 'grade': 'A'},\n",
       " 'student2': {'name': 'Raza', 'age': 22, 'grade': 'B'},\n",
       " 'student3': {'name': 'Ali', 'age': 19, 'grade': 'A'}}"
      ]
     },
     "execution_count": 126,
     "metadata": {},
     "output_type": "execute_result"
    }
   ],
   "source": [
    "student_records"
   ]
  },
  {
   "cell_type": "code",
   "execution_count": 127,
   "metadata": {},
   "outputs": [
    {
     "data": {
      "text/plain": [
       "{'name': 'Sajjad', 'age': 20, 'grade': 'A'}"
      ]
     },
     "execution_count": 127,
     "metadata": {},
     "output_type": "execute_result"
    }
   ],
   "source": [
    "student_records[\"student1\"]"
   ]
  },
  {
   "cell_type": "code",
   "execution_count": 130,
   "metadata": {},
   "outputs": [
    {
     "data": {
      "text/plain": [
       "'A'"
      ]
     },
     "execution_count": 130,
     "metadata": {},
     "output_type": "execute_result"
    }
   ],
   "source": [
    "student_records[\"student1\"][\"grade\"]"
   ]
  },
  {
   "cell_type": "code",
   "execution_count": 129,
   "metadata": {},
   "outputs": [
    {
     "name": "stdout",
     "output_type": "stream",
     "text": [
      "student1\n",
      "student2\n",
      "student3\n"
     ]
    }
   ],
   "source": [
    "for key in student_records.keys():\n",
    "    print(key)"
   ]
  },
  {
   "cell_type": "markdown",
   "metadata": {},
   "source": [
    "# Functions"
   ]
  },
  {
   "cell_type": "markdown",
   "metadata": {},
   "source": [
    "To achieve reusablility and modularity we use functions"
   ]
  },
  {
   "cell_type": "code",
   "execution_count": 131,
   "metadata": {},
   "outputs": [],
   "source": [
    "#def functionName():\n",
    " #       body\n",
    "  #   print()   "
   ]
  },
  {
   "cell_type": "code",
   "execution_count": 132,
   "metadata": {},
   "outputs": [],
   "source": [
    "def add():\n",
    "    print(2+3)"
   ]
  },
  {
   "cell_type": "code",
   "execution_count": 134,
   "metadata": {},
   "outputs": [
    {
     "name": "stdout",
     "output_type": "stream",
     "text": [
      "5\n"
     ]
    }
   ],
   "source": [
    "add()   #we need to call funtion "
   ]
  },
  {
   "cell_type": "markdown",
   "metadata": {},
   "source": [
    "# passing information positional arguments\n",
    "\n",
    "Fist argument assign in fist parameter and second argument assign in second parameter, therefor we called positional arguments\n",
    "\n",
    "Parameter : use in function defination\n",
    "\n",
    "Prguments: value pass"
   ]
  },
  {
   "cell_type": "code",
   "execution_count": 136,
   "metadata": {},
   "outputs": [],
   "source": [
    "def addA(num1,num2):    #Parameter\n",
    "    print(num1+num2)"
   ]
  },
  {
   "cell_type": "code",
   "execution_count": 137,
   "metadata": {},
   "outputs": [
    {
     "name": "stdout",
     "output_type": "stream",
     "text": [
      "6\n"
     ]
    }
   ],
   "source": [
    "addA(2,4)"
   ]
  },
  {
   "cell_type": "markdown",
   "metadata": {},
   "source": [
    "## parameterless funtion\n",
    "\n",
    "always give same output"
   ]
  },
  {
   "cell_type": "code",
   "execution_count": 138,
   "metadata": {},
   "outputs": [],
   "source": [
    "def add():\n",
    "    print(2+3)     #arguments"
   ]
  },
  {
   "cell_type": "code",
   "execution_count": 139,
   "metadata": {},
   "outputs": [
    {
     "name": "stdout",
     "output_type": "stream",
     "text": [
      "5\n"
     ]
    }
   ],
   "source": [
    "add()"
   ]
  },
  {
   "cell_type": "markdown",
   "metadata": {},
   "source": [
    "## parameterised funtion\n",
    "\n",
    "its output depent on input"
   ]
  },
  {
   "cell_type": "code",
   "execution_count": 140,
   "metadata": {},
   "outputs": [],
   "source": [
    "def addA(num1,num2):\n",
    "    print(num1+num2)"
   ]
  },
  {
   "cell_type": "code",
   "execution_count": 141,
   "metadata": {},
   "outputs": [
    {
     "name": "stdout",
     "output_type": "stream",
     "text": [
      "55\n"
     ]
    }
   ],
   "source": [
    "addA(23,32)"
   ]
  },
  {
   "cell_type": "markdown",
   "metadata": {},
   "source": [
    "# positional argument"
   ]
  },
  {
   "cell_type": "code",
   "execution_count": 155,
   "metadata": {},
   "outputs": [],
   "source": [
    "def name(fName,mName,lName):\n",
    "    print(fName+mName+lName)"
   ]
  },
  {
   "cell_type": "code",
   "execution_count": 156,
   "metadata": {},
   "outputs": [
    {
     "name": "stdout",
     "output_type": "stream",
     "text": [
      "muhammadhashimshabbir\n"
     ]
    }
   ],
   "source": [
    "name(\"muhammad\",\"hashim\",\"shabbir\")"
   ]
  },
  {
   "cell_type": "markdown",
   "metadata": {},
   "source": [
    "# keyword argument"
   ]
  },
  {
   "cell_type": "code",
   "execution_count": 157,
   "metadata": {},
   "outputs": [
    {
     "name": "stdout",
     "output_type": "stream",
     "text": [
      "muhammadhashimshabbir\n"
     ]
    }
   ],
   "source": [
    "name(fName=\"muhammad\",lName=\"shabbir\",mName=\"hashim\")"
   ]
  },
  {
   "cell_type": "code",
   "execution_count": 158,
   "metadata": {},
   "outputs": [
    {
     "name": "stdout",
     "output_type": "stream",
     "text": [
      "muhammadhashimshabbir\n"
     ]
    }
   ],
   "source": [
    "name(\"muhammad\",lName=\"shabbir\",mName=\"hashim\")"
   ]
  },
  {
   "cell_type": "code",
   "execution_count": 166,
   "metadata": {},
   "outputs": [
    {
     "ename": "SyntaxError",
     "evalue": "positional argument follows keyword argument (3023656248.py, line 1)",
     "output_type": "error",
     "traceback": [
      "\u001b[1;36m  Cell \u001b[1;32mIn[166], line 1\u001b[1;36m\u001b[0m\n\u001b[1;33m    name(lName=\"muhammad\",\"shabbir\",\"hashim\") #keyword argument always be used in last\u001b[0m\n\u001b[1;37m                                            ^\u001b[0m\n\u001b[1;31mSyntaxError\u001b[0m\u001b[1;31m:\u001b[0m positional argument follows keyword argument\n"
     ]
    }
   ],
   "source": [
    "name(lName=\"muhammad\",\"shabbir\",\"hashim\") #keyword argument always be used in last"
   ]
  },
  {
   "cell_type": "markdown",
   "metadata": {},
   "source": [
    "## default value parameter"
   ]
  },
  {
   "cell_type": "code",
   "execution_count": 172,
   "metadata": {},
   "outputs": [],
   "source": [
    "def  defaultValuename(fName,lName,mName=\"\"):    #default parameter always be in last\n",
    "    print(fName+mName+lName)"
   ]
  },
  {
   "cell_type": "code",
   "execution_count": 173,
   "metadata": {},
   "outputs": [
    {
     "name": "stdout",
     "output_type": "stream",
     "text": [
      "hashimshabbir\n"
     ]
    }
   ],
   "source": [
    "defaultValuename(\"hashim\",\"shabbir\")"
   ]
  },
  {
   "cell_type": "code",
   "execution_count": 174,
   "metadata": {},
   "outputs": [
    {
     "name": "stdout",
     "output_type": "stream",
     "text": [
      "muhammadshabbirhashim\n"
     ]
    }
   ],
   "source": [
    "defaultValuename(\"muhammad\",\"hashim\",\"shabbir\")"
   ]
  },
  {
   "cell_type": "markdown",
   "metadata": {},
   "source": [
    "## Dealing with unknow number of arguments\n",
    "\n",
    "#####  parameter with *, deal with arbitrary number"
   ]
  },
  {
   "cell_type": "code",
   "execution_count": 185,
   "metadata": {},
   "outputs": [],
   "source": [
    "def player(sport,house,*name):\n",
    "    print(f\"{house} house {sport} team members are {name}\")"
   ]
  },
  {
   "cell_type": "code",
   "execution_count": 186,
   "metadata": {},
   "outputs": [
    {
     "name": "stdout",
     "output_type": "stream",
     "text": [
      "blue house kockey team members are ()\n"
     ]
    }
   ],
   "source": [
    "player(\"kockey\",\"blue\")"
   ]
  },
  {
   "cell_type": "code",
   "execution_count": 187,
   "metadata": {},
   "outputs": [
    {
     "name": "stdout",
     "output_type": "stream",
     "text": [
      "blue house kockey team members are ('raza', 'shahid')\n"
     ]
    }
   ],
   "source": [
    "player(\"kockey\",\"blue\",\"raza\",\"shahid\")"
   ]
  },
  {
   "cell_type": "markdown",
   "metadata": {},
   "source": [
    "# passing information back"
   ]
  },
  {
   "cell_type": "code",
   "execution_count": 192,
   "metadata": {},
   "outputs": [],
   "source": [
    "def returnfun (num1,num2):\n",
    "    ans= num1+num2\n",
    "    return ans\n"
   ]
  },
  {
   "cell_type": "code",
   "execution_count": 193,
   "metadata": {},
   "outputs": [],
   "source": [
    "a= returnfun(2,3)"
   ]
  },
  {
   "cell_type": "code",
   "execution_count": 194,
   "metadata": {},
   "outputs": [
    {
     "name": "stdout",
     "output_type": "stream",
     "text": [
      "5\n"
     ]
    }
   ],
   "source": [
    "print(a)"
   ]
  },
  {
   "cell_type": "code",
   "execution_count": 196,
   "metadata": {},
   "outputs": [],
   "source": [
    "def returnMulValue (num1,num2):\n",
    "    ans= num1+num2\n",
    "    return ans, \"pakistan\""
   ]
  },
  {
   "cell_type": "code",
   "execution_count": 197,
   "metadata": {},
   "outputs": [
    {
     "data": {
      "text/plain": [
       "(5, 'pakistan')"
      ]
     },
     "execution_count": 197,
     "metadata": {},
     "output_type": "execute_result"
    }
   ],
   "source": [
    "returnMulValue(4,1)"
   ]
  },
  {
   "cell_type": "code",
   "execution_count": 198,
   "metadata": {},
   "outputs": [
    {
     "data": {
      "text/plain": [
       "64"
      ]
     },
     "execution_count": 198,
     "metadata": {},
     "output_type": "execute_result"
    }
   ],
   "source": [
    "returnfun(32,32)"
   ]
  },
  {
   "cell_type": "code",
   "execution_count": 200,
   "metadata": {},
   "outputs": [],
   "source": [
    "def returnMulValuex (num1,num2):\n",
    "    ans= num1+num2\n",
    "    return ans, \"pakistan\"\n",
    "    print(\"hello\")   #it will not be execute"
   ]
  },
  {
   "cell_type": "code",
   "execution_count": 201,
   "metadata": {},
   "outputs": [
    {
     "data": {
      "text/plain": [
       "(264, 'pakistan')"
      ]
     },
     "execution_count": 201,
     "metadata": {},
     "output_type": "execute_result"
    }
   ],
   "source": [
    "returnMulValuex(232,32)"
   ]
  },
  {
   "cell_type": "markdown",
   "metadata": {},
   "source": [
    "# using funtion as variable"
   ]
  },
  {
   "cell_type": "code",
   "execution_count": 206,
   "metadata": {},
   "outputs": [],
   "source": [
    "def add1(a,b):\n",
    "    return a+b\n",
    "\n",
    "\n",
    "def sub(b,a):\n",
    "    return b-a \n",
    "\n",
    "result=add1(6,3)+sub(4,2)"
   ]
  },
  {
   "cell_type": "code",
   "execution_count": 207,
   "metadata": {},
   "outputs": [
    {
     "data": {
      "text/plain": [
       "11"
      ]
     },
     "execution_count": 207,
     "metadata": {},
     "output_type": "execute_result"
    }
   ],
   "source": [
    "result"
   ]
  },
  {
   "cell_type": "markdown",
   "metadata": {},
   "source": [
    "# local variable and global variable\n",
    "\n",
    "local variable -> scope is only inside a function\n",
    "\n",
    "global variable -> scope is in and out of the function"
   ]
  },
  {
   "cell_type": "code",
   "execution_count": 210,
   "metadata": {},
   "outputs": [],
   "source": [
    "def happy():\n",
    "    name=\"mr A\"    #local variable\n",
    "    print(f\"{name} is happy\")\n",
    "        "
   ]
  },
  {
   "cell_type": "code",
   "execution_count": 211,
   "metadata": {},
   "outputs": [
    {
     "name": "stdout",
     "output_type": "stream",
     "text": [
      "mr A is happy\n"
     ]
    }
   ],
   "source": [
    "happy()"
   ]
  },
  {
   "cell_type": "code",
   "execution_count": 217,
   "metadata": {},
   "outputs": [],
   "source": [
    "nameb=\"mr b\"    #global variable\n",
    "def sad():\n",
    "    print(f\"{nameb} is sad\")\n",
    "        "
   ]
  },
  {
   "cell_type": "code",
   "execution_count": 218,
   "metadata": {},
   "outputs": [
    {
     "name": "stdout",
     "output_type": "stream",
     "text": [
      "mr b is sad\n"
     ]
    }
   ],
   "source": [
    "sad()"
   ]
  },
  {
   "cell_type": "code",
   "execution_count": 221,
   "metadata": {},
   "outputs": [
    {
     "data": {
      "text/plain": [
       "'mr b'"
      ]
     },
     "execution_count": 221,
     "metadata": {},
     "output_type": "execute_result"
    }
   ],
   "source": [
    "nameb  #showing result bcz of global variable"
   ]
  },
  {
   "cell_type": "code",
   "execution_count": 222,
   "metadata": {},
   "outputs": [
    {
     "data": {
      "text/plain": [
       "<function __main__.name(fName, mName, lName)>"
      ]
     },
     "execution_count": 222,
     "metadata": {},
     "output_type": "execute_result"
    }
   ],
   "source": [
    "name #not showing bcz of local variable"
   ]
  },
  {
   "cell_type": "markdown",
   "metadata": {},
   "source": [
    "# Function with in Function"
   ]
  },
  {
   "cell_type": "code",
   "execution_count": 224,
   "metadata": {},
   "outputs": [],
   "source": [
    "def commissioncal(sales):\n",
    "    if sales>100:\n",
    "        return sales*100\n",
    "    elif sales>70:\n",
    "        return sales*70\n",
    "    elif sales>50:\n",
    "        return sales*50\n",
    "    else: \n",
    "        return sales*0\n",
    "\n",
    "def salarycalc(salary,sales):\n",
    "    grossSlary=salary+commissioncal(sales)\n",
    "    print(f\"your salary is {grossSlary}\")"
   ]
  },
  {
   "cell_type": "code",
   "execution_count": null,
   "metadata": {},
   "outputs": [],
   "source": [
    "salarycalc(10000,100)"
   ]
  },
  {
   "cell_type": "markdown",
   "metadata": {},
   "source": [
    "# while loop\n",
    "#### it allows user to terminate loop by setting flags"
   ]
  },
  {
   "cell_type": "code",
   "execution_count": 5,
   "metadata": {},
   "outputs": [
    {
     "name": "stdout",
     "output_type": "stream",
     "text": [
      "0 while loop\n",
      "1 while loop\n",
      "2 while loop\n",
      "3 while loop\n",
      "4 while loop\n",
      "5 while loop\n",
      "6 while loop\n",
      "7 while loop\n",
      "8 while loop\n",
      "9 while loop\n"
     ]
    }
   ],
   "source": [
    "a=0\n",
    "while a<10:\n",
    "    print(a,\"while loop\")\n",
    "    a+=1"
   ]
  },
  {
   "cell_type": "markdown",
   "metadata": {},
   "source": [
    "# flag setting "
   ]
  },
  {
   "cell_type": "code",
   "execution_count": 2,
   "metadata": {},
   "outputs": [
    {
     "name": "stdout",
     "output_type": "stream",
     "text": [
      "enter your favourite foodsbiryani\n",
      "enter your favourite foodsdalchawal\n",
      "enter your favourite foodshaleem\n",
      "enter your favourite foodskhrai\n",
      "enter your favourite foodsq\n"
     ]
    }
   ],
   "source": [
    "flag=True\n",
    "favfoods=[]\n",
    "while flag:\n",
    "    userinput=input(\"enter your favourite foods\")\n",
    "    if userinput==\"q\":\n",
    "        flag=False\n",
    "    else:\n",
    "        favfoods.append(userinput)\n",
    "    "
   ]
  },
  {
   "cell_type": "code",
   "execution_count": 4,
   "metadata": {},
   "outputs": [
    {
     "data": {
      "text/plain": [
       "['biryani', 'dalchawal', 'haleem', 'khrai']"
      ]
     },
     "execution_count": 4,
     "metadata": {},
     "output_type": "execute_result"
    }
   ],
   "source": [
    "favfoods\n"
   ]
  },
  {
   "cell_type": "markdown",
   "metadata": {},
   "source": [
    "# class\n",
    "\n",
    "### object oriented programming: almost all thing in python class base\n",
    "#### class name should be start with capital latter\n",
    "\n",
    "#### class may hold attribute (variables) like name, age, etc\n",
    "#### class may hold behabiours (funtion) like walt, eat, speak etc \n",
    "\n",
    "#### class car():\n",
    "            #### define a class body\n",
    "            #### attribute and behabiours\n",
    "#### creating a  instance/objects  of car class\n",
    "\n",
    "  example: car1=car()\n",
    "  \n",
    "          car2=car()\n"
   ]
  },
  {
   "cell_type": "code",
   "execution_count": 46,
   "metadata": {},
   "outputs": [],
   "source": [
    "class Car():\n",
    "    ## defining attribute (veriable)\n",
    "    def __init__(self, make,model,year):\n",
    "        \n",
    "        #self make individual copy for all attributes and behaviours\n",
    "        self.make=make\n",
    "        self.model=model\n",
    "        self.year=year\n",
    "        self.battery=\"200 amp\" # defaul attributes\n",
    "        \n",
    "    ## behaviours (function)\n",
    "    def description(self):\n",
    "        print(f\"the make of car is: {self.make}\")\n",
    "        print(f\"the model of car is: {self.model}\")\n",
    "        print(f\"the year of car is: {self.year}\")\n",
    "        \n",
    "    def move(self):\n",
    "        print(f\"the {self.make} is moving with speed\")\n",
    "        \n",
    "    def applyingBreak(self):\n",
    "        print(f\"the {self.make} has applied break\")  \n",
    "        \n",
    "    def descBattery(self):\n",
    "        print(f\"the battery of car is {self.battery}\")\n",
    "    \n",
    "    def setbatterysize(self,newsize):\n",
    "        self.battery=newsize\n",
    "        \n",
    "    def getbatterysize(self):\n",
    "        print(f\"the size of your car battery is {self.battery}\")\n",
    "        \n",
    "        "
   ]
  },
  {
   "cell_type": "code",
   "execution_count": 47,
   "metadata": {},
   "outputs": [],
   "source": [
    "# object of car\n",
    "car1=Car(\"Honda\",\"civic\",2019)\n",
    "car2=Car(\"Suzuki\",\"cultus\",2015)    "
   ]
  },
  {
   "cell_type": "code",
   "execution_count": 48,
   "metadata": {},
   "outputs": [
    {
     "data": {
      "text/plain": [
       "'Honda'"
      ]
     },
     "execution_count": 48,
     "metadata": {},
     "output_type": "execute_result"
    }
   ],
   "source": [
    "car1.make"
   ]
  },
  {
   "cell_type": "code",
   "execution_count": 49,
   "metadata": {},
   "outputs": [
    {
     "data": {
      "text/plain": [
       "'Suzuki'"
      ]
     },
     "execution_count": 49,
     "metadata": {},
     "output_type": "execute_result"
    }
   ],
   "source": [
    "car2.make"
   ]
  },
  {
   "cell_type": "code",
   "execution_count": 50,
   "metadata": {},
   "outputs": [
    {
     "name": "stdout",
     "output_type": "stream",
     "text": [
      "the Honda is moving with speed\n"
     ]
    }
   ],
   "source": [
    "car1.move()"
   ]
  },
  {
   "cell_type": "code",
   "execution_count": 51,
   "metadata": {},
   "outputs": [
    {
     "name": "stdout",
     "output_type": "stream",
     "text": [
      "the Suzuki is moving with speed\n"
     ]
    }
   ],
   "source": [
    "car2.move()"
   ]
  },
  {
   "cell_type": "markdown",
   "metadata": {},
   "source": [
    "## changing an attributes value\n",
    "\n",
    "1) direct hit the attribute\n",
    "\n",
    "2) via function (get set)"
   ]
  },
  {
   "cell_type": "code",
   "execution_count": 52,
   "metadata": {},
   "outputs": [],
   "source": [
    "car2.make=\"yamaha\""
   ]
  },
  {
   "cell_type": "code",
   "execution_count": 53,
   "metadata": {},
   "outputs": [
    {
     "data": {
      "text/plain": [
       "'yamaha'"
      ]
     },
     "execution_count": 53,
     "metadata": {},
     "output_type": "execute_result"
    }
   ],
   "source": [
    "car2.make"
   ]
  },
  {
   "cell_type": "code",
   "execution_count": 54,
   "metadata": {},
   "outputs": [
    {
     "data": {
      "text/plain": [
       "'200 amp'"
      ]
     },
     "execution_count": 54,
     "metadata": {},
     "output_type": "execute_result"
    }
   ],
   "source": [
    "car1.battery"
   ]
  },
  {
   "cell_type": "code",
   "execution_count": 55,
   "metadata": {},
   "outputs": [],
   "source": [
    "car1.battery=\"300 amp\""
   ]
  },
  {
   "cell_type": "code",
   "execution_count": 56,
   "metadata": {},
   "outputs": [
    {
     "data": {
      "text/plain": [
       "'300 amp'"
      ]
     },
     "execution_count": 56,
     "metadata": {},
     "output_type": "execute_result"
    }
   ],
   "source": [
    "car1.battery"
   ]
  },
  {
   "cell_type": "code",
   "execution_count": 57,
   "metadata": {},
   "outputs": [
    {
     "data": {
      "text/plain": [
       "'200 amp'"
      ]
     },
     "execution_count": 57,
     "metadata": {},
     "output_type": "execute_result"
    }
   ],
   "source": [
    "car2.battery"
   ]
  },
  {
   "cell_type": "code",
   "execution_count": 58,
   "metadata": {},
   "outputs": [
    {
     "name": "stdout",
     "output_type": "stream",
     "text": [
      "the size of your car battery is 300 amp\n"
     ]
    }
   ],
   "source": [
    "car1.getbatterysize()"
   ]
  },
  {
   "cell_type": "code",
   "execution_count": 59,
   "metadata": {},
   "outputs": [
    {
     "name": "stdout",
     "output_type": "stream",
     "text": [
      "the size of your car battery is 200 amp\n"
     ]
    }
   ],
   "source": [
    "car2.getbatterysize()"
   ]
  },
  {
   "cell_type": "code",
   "execution_count": 61,
   "metadata": {},
   "outputs": [],
   "source": [
    "car1.setbatterysize(\"500amp\")"
   ]
  },
  {
   "cell_type": "code",
   "execution_count": 62,
   "metadata": {},
   "outputs": [
    {
     "name": "stdout",
     "output_type": "stream",
     "text": [
      "the size of your car battery is 500amp\n"
     ]
    }
   ],
   "source": [
    "car1.getbatterysize()"
   ]
  },
  {
   "cell_type": "markdown",
   "metadata": {},
   "source": [
    "# Data file\n",
    "\n",
    "#### to save permanent data"
   ]
  },
  {
   "cell_type": "markdown",
   "metadata": {},
   "source": [
    "reading and writting in an external from python code.\n",
    "\n",
    "we can write in a text file using python function:\n",
    "\n",
    "with open(\"fileName\",\"mode\")\n",
    "there are three mode\n",
    "1) read\n",
    "2) write\n",
    "3) append"
   ]
  },
  {
   "cell_type": "markdown",
   "metadata": {},
   "source": [
    "#### writing to a text file"
   ]
  },
  {
   "cell_type": "markdown",
   "metadata": {},
   "source": [
    "with open(\"fileName\",\"w\") as file:\n",
    "\n",
    "    file.write(\"this is my file\") \n",
    "    \n",
    "    \n",
    "note: if file does not exist \"w\" mode will create and write in it    "
   ]
  },
  {
   "cell_type": "markdown",
   "metadata": {},
   "source": [
    "#### read from  a text file"
   ]
  },
  {
   "cell_type": "markdown",
   "metadata": {},
   "source": [
    "with open(\"fileName\",\"r\") as file:\n",
    "\n",
    "    content_of_file=file.read()\n",
    "    \n",
    "print(content_of_file)    \n",
    "    \n",
    "    \n",
    "note: if file does not exist it will throw an error"
   ]
  },
  {
   "cell_type": "markdown",
   "metadata": {},
   "source": [
    "#### write a file in append mode"
   ]
  },
  {
   "cell_type": "markdown",
   "metadata": {},
   "source": [
    "with open(\"fileName\",\"a\") as file:\n",
    "\n",
    "    file.write(\"this is my file in append mode\") \n",
    "    \n",
    "    \n",
    "note: in \"w\" mode if we write in a same file all previous work will be overwrite. but append mode allow to write further. "
   ]
  },
  {
   "cell_type": "markdown",
   "metadata": {},
   "source": [
    "r+ mode allows read and write both in files\n",
    "\n",
    "w+ mode allows read and write both in files, only the difference is in w+ file will be create but in r+ mode file will not be create it show an error file not found"
   ]
  },
  {
   "cell_type": "code",
   "execution_count": 71,
   "metadata": {},
   "outputs": [
    {
     "name": "stdout",
     "output_type": "stream",
     "text": [
      "hello\n"
     ]
    }
   ],
   "source": [
    "with open(\"first.txt\",\"r\") as file:\n",
    "    content=file.read()\n",
    "print(content)    \n"
   ]
  },
  {
   "cell_type": "code",
   "execution_count": 72,
   "metadata": {},
   "outputs": [],
   "source": [
    "with open(\"first.txt\",\"w\") as file:\n",
    "    file.write(\"world\")"
   ]
  },
  {
   "cell_type": "code",
   "execution_count": 73,
   "metadata": {},
   "outputs": [
    {
     "name": "stdout",
     "output_type": "stream",
     "text": [
      "world\n"
     ]
    }
   ],
   "source": [
    "with open(\"first.txt\",\"r\") as file:\n",
    "    content=file.read()\n",
    "print(content)"
   ]
  },
  {
   "cell_type": "code",
   "execution_count": 76,
   "metadata": {},
   "outputs": [],
   "source": [
    "with open(\"first1.txt\",\"w\") as file:\n",
    "    file.write(\"pakistan\")"
   ]
  },
  {
   "cell_type": "code",
   "execution_count": 77,
   "metadata": {},
   "outputs": [
    {
     "name": "stdout",
     "output_type": "stream",
     "text": [
      "pakistan\n"
     ]
    }
   ],
   "source": [
    "with open(\"first1.txt\",\"r\") as file:\n",
    "    content=file.read()\n",
    "print(content)"
   ]
  },
  {
   "cell_type": "code",
   "execution_count": 79,
   "metadata": {},
   "outputs": [],
   "source": [
    "with open(\"first.txt\",\"a\") as file:\n",
    "    file.write(\"zindabad\")"
   ]
  },
  {
   "cell_type": "code",
   "execution_count": 82,
   "metadata": {},
   "outputs": [
    {
     "name": "stdout",
     "output_type": "stream",
     "text": [
      "worldzindabad\n"
     ]
    }
   ],
   "source": [
    "with open(\"first.txt\" ,\"r\") as file:\n",
    "    content=file.read()\n",
    "print(content)    "
   ]
  },
  {
   "cell_type": "code",
   "execution_count": 90,
   "metadata": {},
   "outputs": [
    {
     "name": "stdout",
     "output_type": "stream",
     "text": [
      "this is first text\n"
     ]
    }
   ],
   "source": [
    "with open(\"first1.txt\", \"w+\") as file:\n",
    "    file.write(\"this is first text\")\n",
    "    file.seek(0)\n",
    "    print(file.read())\n",
    "    "
   ]
  },
  {
   "cell_type": "code",
   "execution_count": 92,
   "metadata": {},
   "outputs": [
    {
     "name": "stdout",
     "output_type": "stream",
     "text": [
      "this is first x\n"
     ]
    }
   ],
   "source": [
    "with open(\"firstx.txt\", \"w+\") as file:\n",
    "    file.write(\"this is first x\")\n",
    "    file.seek(0)\n",
    "    print(file.read())\n",
    "    "
   ]
  },
  {
   "cell_type": "code",
   "execution_count": 94,
   "metadata": {},
   "outputs": [
    {
     "ename": "FileNotFoundError",
     "evalue": "[Errno 2] No such file or directory: 'firsty.txt'",
     "output_type": "error",
     "traceback": [
      "\u001b[1;31m---------------------------------------------------------------------------\u001b[0m",
      "\u001b[1;31mFileNotFoundError\u001b[0m                         Traceback (most recent call last)",
      "Cell \u001b[1;32mIn[94], line 1\u001b[0m\n\u001b[1;32m----> 1\u001b[0m \u001b[38;5;28;01mwith\u001b[39;00m \u001b[38;5;28mopen\u001b[39m(\u001b[38;5;124m\"\u001b[39m\u001b[38;5;124mfirsty.txt\u001b[39m\u001b[38;5;124m\"\u001b[39m, \u001b[38;5;124m\"\u001b[39m\u001b[38;5;124mr+\u001b[39m\u001b[38;5;124m\"\u001b[39m) \u001b[38;5;28;01mas\u001b[39;00m file:\n\u001b[0;32m      2\u001b[0m     file\u001b[38;5;241m.\u001b[39mwrite(\u001b[38;5;124m\"\u001b[39m\u001b[38;5;124mthis is first y\u001b[39m\u001b[38;5;124m\"\u001b[39m)\n\u001b[0;32m      3\u001b[0m     file\u001b[38;5;241m.\u001b[39mseek(\u001b[38;5;241m0\u001b[39m)\n",
      "File \u001b[1;32m~\\anaconda3\\Lib\\site-packages\\IPython\\core\\interactiveshell.py:284\u001b[0m, in \u001b[0;36m_modified_open\u001b[1;34m(file, *args, **kwargs)\u001b[0m\n\u001b[0;32m    277\u001b[0m \u001b[38;5;28;01mif\u001b[39;00m file \u001b[38;5;129;01min\u001b[39;00m {\u001b[38;5;241m0\u001b[39m, \u001b[38;5;241m1\u001b[39m, \u001b[38;5;241m2\u001b[39m}:\n\u001b[0;32m    278\u001b[0m     \u001b[38;5;28;01mraise\u001b[39;00m \u001b[38;5;167;01mValueError\u001b[39;00m(\n\u001b[0;32m    279\u001b[0m         \u001b[38;5;124mf\u001b[39m\u001b[38;5;124m\"\u001b[39m\u001b[38;5;124mIPython won\u001b[39m\u001b[38;5;124m'\u001b[39m\u001b[38;5;124mt let you open fd=\u001b[39m\u001b[38;5;132;01m{\u001b[39;00mfile\u001b[38;5;132;01m}\u001b[39;00m\u001b[38;5;124m by default \u001b[39m\u001b[38;5;124m\"\u001b[39m\n\u001b[0;32m    280\u001b[0m         \u001b[38;5;124m\"\u001b[39m\u001b[38;5;124mas it is likely to crash IPython. If you know what you are doing, \u001b[39m\u001b[38;5;124m\"\u001b[39m\n\u001b[0;32m    281\u001b[0m         \u001b[38;5;124m\"\u001b[39m\u001b[38;5;124myou can use builtins\u001b[39m\u001b[38;5;124m'\u001b[39m\u001b[38;5;124m open.\u001b[39m\u001b[38;5;124m\"\u001b[39m\n\u001b[0;32m    282\u001b[0m     )\n\u001b[1;32m--> 284\u001b[0m \u001b[38;5;28;01mreturn\u001b[39;00m io_open(file, \u001b[38;5;241m*\u001b[39margs, \u001b[38;5;241m*\u001b[39m\u001b[38;5;241m*\u001b[39mkwargs)\n",
      "\u001b[1;31mFileNotFoundError\u001b[0m: [Errno 2] No such file or directory: 'firsty.txt'"
     ]
    }
   ],
   "source": [
    "with open(\"firsty.txt\", \"r+\") as file:\n",
    "    file.write(\"this is first y\")\n",
    "    file.seek(0)\n",
    "    print(file.read())\n",
    "    "
   ]
  },
  {
   "cell_type": "markdown",
   "metadata": {},
   "source": [
    "# Modules"
   ]
  },
  {
   "cell_type": "markdown",
   "metadata": {},
   "source": [
    "you can store classes, functions and more in modules. Mostly modules are used to store functions.\n",
    "\n",
    "we save the file name with .py and call by %load maths.py . \n",
    "\n",
    "write a function once, call it from any python program\n",
    "\n",
    "use a code written by other people by importing their modules\n"
   ]
  },
  {
   "cell_type": "code",
   "execution_count": null,
   "metadata": {},
   "outputs": [],
   "source": [
    "# %load maths.py\n",
    "def sum(a,b):\n",
    "    return(a+b)\n",
    "\n",
    "def mul(a,b):\n",
    "    return(a*b)\n",
    "\n",
    "def sub(a,b):\n",
    "    return(a-b)"
   ]
  },
  {
   "cell_type": "code",
   "execution_count": 99,
   "metadata": {},
   "outputs": [],
   "source": [
    "import maths as m"
   ]
  },
  {
   "cell_type": "code",
   "execution_count": 100,
   "metadata": {},
   "outputs": [
    {
     "data": {
      "text/plain": [
       "6"
      ]
     },
     "execution_count": 100,
     "metadata": {},
     "output_type": "execute_result"
    }
   ],
   "source": [
    "m.mul(2,3)"
   ]
  },
  {
   "cell_type": "code",
   "execution_count": 101,
   "metadata": {},
   "outputs": [
    {
     "data": {
      "text/plain": [
       "2"
      ]
     },
     "execution_count": 101,
     "metadata": {},
     "output_type": "execute_result"
    }
   ],
   "source": [
    "m.sub(4,2)"
   ]
  },
  {
   "cell_type": "code",
   "execution_count": 102,
   "metadata": {},
   "outputs": [
    {
     "data": {
      "text/plain": [
       "5"
      ]
     },
     "execution_count": 102,
     "metadata": {},
     "output_type": "execute_result"
    }
   ],
   "source": [
    "m.sum(3,2)"
   ]
  },
  {
   "cell_type": "markdown",
   "metadata": {},
   "source": [
    "# CSV files"
   ]
  },
  {
   "cell_type": "markdown",
   "metadata": {},
   "source": [
    "csv stand for comma separated values\n",
    "\n",
    "its a simplified version of spreadsheet or database\n",
    "\n",
    "we can read write and append, by default it will be read\n",
    "\n"
   ]
  },
  {
   "cell_type": "code",
   "execution_count": 104,
   "metadata": {},
   "outputs": [
    {
     "name": "stdout",
     "output_type": "stream",
     "text": [
      "['year', 'Event', 'Winner']\n",
      "['1992', 'best-kept lawn', 'none']\n",
      "['2019', 'world cup', 'burkina faso']\n"
     ]
    }
   ],
   "source": [
    "import csv\n",
    "\n",
    "with open(\"data.csv\") as file:\n",
    "    content=csv.reader(file)\n",
    "    for data in content:\n",
    "        print(data)"
   ]
  },
  {
   "cell_type": "code",
   "execution_count": 108,
   "metadata": {},
   "outputs": [],
   "source": [
    "with open(\"xyz.csv\",\"w\",newline=\"\") as file:\n",
    "    fileWriter=csv.writer(file)\n",
    "    fileWriter.writerow([\"name\",\"class\",\"secton\"])\n",
    "    fileWriter.writerow([\"sajjad\",\"5th\",\"A\"])\n",
    "    fileWriter.writerow([\"Ali\",\"9th\",\"d\"])\n",
    "    fileWriter.writerow([\"nasir\",\"4\",\"b\"])"
   ]
  },
  {
   "cell_type": "code",
   "execution_count": 109,
   "metadata": {},
   "outputs": [
    {
     "name": "stdout",
     "output_type": "stream",
     "text": [
      "['name', 'class', 'secton']\n",
      "['sajjad', '5th', 'A']\n",
      "['Ali', '9th', 'd']\n",
      "['nasir', '4', 'b']\n"
     ]
    }
   ],
   "source": [
    "with open(\"xyz.csv\") as file:\n",
    "    fileReader=csv.reader(file)\n",
    "    for data in fileReader:\n",
    "        print(data)"
   ]
  },
  {
   "cell_type": "markdown",
   "metadata": {},
   "source": [
    "# json"
   ]
  },
  {
   "cell_type": "markdown",
   "metadata": {},
   "source": [
    "in json we use dump to write and load to read"
   ]
  },
  {
   "cell_type": "code",
   "execution_count": 110,
   "metadata": {},
   "outputs": [],
   "source": [
    "import json"
   ]
  },
  {
   "cell_type": "code",
   "execution_count": 112,
   "metadata": {},
   "outputs": [],
   "source": [
    "with open(\"abc.json\",\"w\") as file:\n",
    "    json.dump([\"ali\",212,2342,232,42],file)"
   ]
  },
  {
   "cell_type": "code",
   "execution_count": 113,
   "metadata": {},
   "outputs": [
    {
     "name": "stdout",
     "output_type": "stream",
     "text": [
      "['ali', 212, 2342, 232, 42]\n"
     ]
    }
   ],
   "source": [
    "with open(\"abc.json\",\"r\") as file:\n",
    "    loadData=json.load(file)\n",
    "    print(loadData)"
   ]
  },
  {
   "cell_type": "code",
   "execution_count": 114,
   "metadata": {},
   "outputs": [],
   "source": [
    "#writing data in dictionary form"
   ]
  },
  {
   "cell_type": "code",
   "execution_count": 118,
   "metadata": {},
   "outputs": [],
   "source": [
    "myDic={\"firstName\":\"ali\",\"class\":5,\"section\":\"c\"}"
   ]
  },
  {
   "cell_type": "code",
   "execution_count": 119,
   "metadata": {},
   "outputs": [],
   "source": [
    "with open(\"mydic.json\",\"w\") as f:\n",
    "    json.dump(myDic,f)"
   ]
  },
  {
   "cell_type": "code",
   "execution_count": 120,
   "metadata": {},
   "outputs": [
    {
     "name": "stdout",
     "output_type": "stream",
     "text": [
      "{'firstName': 'ali', 'class': 5, 'section': 'c'}\n"
     ]
    }
   ],
   "source": [
    "with open(\"mydic.json\",\"r\") as f:\n",
    "    loadData=json.load(f)\n",
    "    print(loadData)"
   ]
  },
  {
   "cell_type": "markdown",
   "metadata": {},
   "source": [
    "# Exceptions"
   ]
  },
  {
   "cell_type": "markdown",
   "metadata": {},
   "source": [
    "Exceptions are run time error\n",
    "\n",
    "when user enter wrong value.\n",
    "\n",
    "python uses special objects called exceptions to manage errors that arise during programs executions.\n",
    "\n",
    "whenever error occurs python creates an exception object\n",
    "\n",
    "it handle with try -except blocks \n"
   ]
  },
  {
   "cell_type": "code",
   "execution_count": 126,
   "metadata": {},
   "outputs": [
    {
     "name": "stdout",
     "output_type": "stream",
     "text": [
      "Exception caught\n",
      "hello\n"
     ]
    }
   ],
   "source": [
    "try:\n",
    "    5/0\n",
    "except:\n",
    "    print(\"Exception caught\")\n",
    "else:\n",
    "    print(\"no exception\")\n",
    "finally:\n",
    "    print(\"hello\")  # finally will always run"
   ]
  },
  {
   "cell_type": "markdown",
   "metadata": {},
   "source": [
    "multiline string"
   ]
  },
  {
   "cell_type": "code",
   "execution_count": 4,
   "metadata": {},
   "outputs": [],
   "source": [
    "name : str = \"hashim\"\n",
    "fname: str = \"shabbbir\"\n",
    "education: str = \"bs cs\"\n",
    "age: int = 21"
   ]
  },
  {
   "cell_type": "code",
   "execution_count": 9,
   "metadata": {},
   "outputs": [
    {
     "name": "stdout",
     "output_type": "stream",
     "text": [
      "               \n",
      "student name: hashim\n",
      "student fnmae: shabbbir\n",
      "student education: bs cs\n",
      "student age: 21\n",
      "\n",
      "\n"
     ]
    }
   ],
   "source": [
    "#here we use f string\n",
    "\n",
    "card : str = f'''               \n",
    "student name: {name}\n",
    "student fnmae: {fname}\n",
    "student education: {education}\n",
    "student age: {age}\n",
    "\n",
    "'''\n",
    "print(card)"
   ]
  },
  {
   "cell_type": "markdown",
   "metadata": {},
   "source": [
    "## Fstring and Jinja style"
   ]
  },
  {
   "cell_type": "code",
   "execution_count": 12,
   "metadata": {},
   "outputs": [
    {
     "data": {
      "text/plain": [
       "'\\nstuden name: hashim\\n'"
      ]
     },
     "execution_count": 12,
     "metadata": {},
     "output_type": "execute_result"
    }
   ],
   "source": [
    "f\"\"\"\n",
    "studen name: {name}\n",
    "\"\"\""
   ]
  },
  {
   "cell_type": "code",
   "execution_count": 13,
   "metadata": {},
   "outputs": [
    {
     "data": {
      "text/plain": [
       "'\\nstuden name: {name}\\n'"
      ]
     },
     "execution_count": 13,
     "metadata": {},
     "output_type": "execute_result"
    }
   ],
   "source": [
    "# jinja\n",
    "f\"\"\"\n",
    "studen name: {{name}}\n",
    "\"\"\""
   ]
  },
  {
   "cell_type": "code",
   "execution_count": 14,
   "metadata": {},
   "outputs": [
    {
     "name": "stdout",
     "output_type": "stream",
     "text": [
      "               \n",
      "student name: hashim\n",
      "student fnmae: shabbbir\n",
      "student education: bs cs\n",
      "student age: 21\n",
      "\n"
     ]
    }
   ],
   "source": [
    "# using placeholder\n",
    "\n",
    "card : str = f'''               \n",
    "student name: %s\n",
    "student fnmae: %s\n",
    "student education: %s\n",
    "student age: %d\n",
    "''' %(name,fname,education,age)\n",
    "print(card)"
   ]
  },
  {
   "cell_type": "code",
   "execution_count": 15,
   "metadata": {},
   "outputs": [
    {
     "data": {
      "text/plain": [
       "'pakistan value a 4 and value b 5'"
      ]
     },
     "execution_count": 15,
     "metadata": {},
     "output_type": "execute_result"
    }
   ],
   "source": [
    "a:int = 4\n",
    "b:int = 5\n",
    "\n",
    "\"pakistan value a {} and value b {}\".format(a,b)"
   ]
  },
  {
   "cell_type": "code",
   "execution_count": 18,
   "metadata": {},
   "outputs": [
    {
     "name": "stdout",
     "output_type": "stream",
     "text": [
      "               \n",
      "student name: hashim\n",
      "student fnmae: bs cs\n",
      "student education: bs cs\n",
      "student age: 21\n",
      "\n",
      "\n"
     ]
    }
   ],
   "source": [
    "card : str = '''               \n",
    "student name: {1}\n",
    "student fnmae: {2}\n",
    "student education: {2}\n",
    "student age: {3}\n",
    "\n",
    "'''.format(fname,name,education,age)\n",
    "print(card)"
   ]
  },
  {
   "cell_type": "code",
   "execution_count": 19,
   "metadata": {},
   "outputs": [
    {
     "name": "stdout",
     "output_type": "stream",
     "text": [
      "               \n",
      "student name: hashim\n",
      "student fnmae: shabbbir\n",
      "student education: bs cs\n",
      "student age: 21\n",
      "\n",
      "\n"
     ]
    }
   ],
   "source": [
    "card : str = '''               \n",
    "student name: {b}\n",
    "student fnmae: {a}\n",
    "student education: {c}\n",
    "student age: {d}\n",
    "\n",
    "'''.format(a=fname,b=name,c=education,d=age)\n",
    "print(card)"
   ]
  },
  {
   "cell_type": "code",
   "execution_count": 20,
   "metadata": {},
   "outputs": [
    {
     "name": "stdout",
     "output_type": "stream",
     "text": [
      "my name is hashim\n",
      "6\n"
     ]
    }
   ],
   "source": [
    "student_code: str =\"\"\"\n",
    "print(\"my name is hashim\")\n",
    "a : int = 2\n",
    "b : int = 4\n",
    "print(a+b)\n",
    "\"\"\"\n",
    "\n",
    "exec(student_code)"
   ]
  },
  {
   "cell_type": "code",
   "execution_count": 28,
   "metadata": {},
   "outputs": [
    {
     "name": "stdout",
     "output_type": "stream",
     "text": [
      "           muhammad   hashim       \n",
      "muhammad   hashim\n",
      "           muhammad   hashim\n"
     ]
    }
   ],
   "source": [
    "s_name:str=\"           muhammad   hashim       \"\n",
    "\n",
    "print(s_name)\n",
    "print(s_name.strip())\n",
    "print(s_name.rstrip())"
   ]
  },
  {
   "cell_type": "code",
   "execution_count": 33,
   "metadata": {},
   "outputs": [
    {
     "data": {
      "text/plain": [
       "'   muhammad    hashim      '"
      ]
     },
     "metadata": {},
     "output_type": "display_data"
    },
    {
     "data": {
      "text/plain": [
       "'muhammadhashim'"
      ]
     },
     "metadata": {},
     "output_type": "display_data"
    }
   ],
   "source": [
    "import re\n",
    "name : str =\"   muhammad    hashim      \"\n",
    "display(name)\n",
    "\n",
    "\n",
    "             #re.sub(pattern,replacement,variableName)    \n",
    "name1 :str = re.sub(\" {2,100}\",\" \",name)\n",
    "display(name1)"
   ]
  },
  {
   "cell_type": "code",
   "execution_count": null,
   "metadata": {},
   "outputs": [],
   "source": []
  }
 ],
 "metadata": {
  "accelerator": "GPU",
  "colab": {
   "provenance": [],
   "toc_visible": true
  },
  "kernelspec": {
   "display_name": "Python 3 (ipykernel)",
   "language": "python",
   "name": "python3"
  },
  "language_info": {
   "codemirror_mode": {
    "name": "ipython",
    "version": 3
   },
   "file_extension": ".py",
   "mimetype": "text/x-python",
   "name": "python",
   "nbconvert_exporter": "python",
   "pygments_lexer": "ipython3",
   "version": "3.9.0"
  }
 },
 "nbformat": 4,
 "nbformat_minor": 1
}
